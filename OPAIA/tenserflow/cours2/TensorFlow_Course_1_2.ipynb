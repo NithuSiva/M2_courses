{
 "cells": [
  {
   "cell_type": "code",
   "execution_count": null,
   "id": "b212f480-93a0-4a9b-b495-b6708714bf87",
   "metadata": {},
   "outputs": [],
   "source": [
    "# Based on Golam Saroar' tutorial : https://github.com/golamSaroar\n",
    "# Modified by Mehdi Ammi, Univ. Paris 8"
   ]
  },
  {
   "cell_type": "markdown",
   "id": "fb8cc8f8-ded5-46bd-b17f-40b5aed1a0c6",
   "metadata": {},
   "source": [
    "# Basics of Neural Networks"
   ]
  },
  {
   "cell_type": "markdown",
   "id": "0a9cf2d1-8877-45cb-876d-556edd6c1c7b",
   "metadata": {},
   "source": [
    "## Introduction\n",
    "\n",
    "When starting with any new concept or technology, it's best to begin with something simple that illustrates the fundamental structure of how things work. In the case of neural networks, a classic example is learning the relationship between two numbers.\n",
    "\n",
    "### Example Function\n",
    "\n",
    "For instance, consider the following function, which you might already know how to write:"
   ]
  },
  {
   "cell_type": "code",
   "execution_count": null,
   "id": "81a4b93d-b659-474b-b065-fb83c5030ee2",
   "metadata": {},
   "outputs": [],
   "source": [
    "float hw_function(float x) {\n",
    "    float y = (2 * x) - 1;\n",
    "    return y;\n",
    "}"
   ]
  },
  {
   "cell_type": "markdown",
   "id": "cb71286a-24bc-44ec-adc3-d32c4d32453d",
   "metadata": {},
   "source": [
    "Now, the goal is to train a neural network to learn this relationship using data.\n",
    "\n",
    "### Paradigm Shift\n",
    "\n",
    "Training a neural network involves a different paradigm compared to traditional programming. Instead of explicitly defining the relationship, you provide the network with data (input-output pairs) and let it figure out the relationship."
   ]
  },
  {
   "cell_type": "markdown",
   "id": "f1ef41b6-775d-47ab-939f-c15871c471ca",
   "metadata": {},
   "source": [
    "## Step-by-Step Explanation"
   ]
  },
  {
   "cell_type": "markdown",
   "id": "d4e26366-0b2f-4b68-b5d7-5f8bd34fcce3",
   "metadata": {},
   "source": [
    "## Step 1: Imports\n",
    "\n",
    "First, we need to import the necessary libraries. TensorFlow is a popular framework for building and training neural networks, and we will use tf as an alias for it. We also need numpy for handling data as arrays, and keras (a high-level API within TensorFlow) for building the neural network model."
   ]
  },
  {
   "cell_type": "code",
   "execution_count": null,
   "id": "069a5885-6c16-4a6c-9371-60d262cea31c",
   "metadata": {},
   "outputs": [],
   "source": [
    "import tensorflow as tf\n",
    "import numpy as np\n",
    "from tensorflow import keras"
   ]
  },
  {
   "cell_type": "markdown",
   "id": "e2f0c947-dde7-4051-94ff-c876d407e799",
   "metadata": {},
   "source": [
    "## Step 2: Define the Neural Network\n",
    "\n",
    "Next, we create the simplest possible neural network. This network has one layer with one neuron, and it expects input in the form of a single value."
   ]
  },
  {
   "cell_type": "code",
   "execution_count": null,
   "id": "7914b5be-afce-4975-96ec-db69b75cadb7",
   "metadata": {},
   "outputs": [],
   "source": [
    "model = tf.keras.Sequential([keras.layers.Dense(units=1, input_shape=[1])])"
   ]
  },
  {
   "cell_type": "markdown",
   "id": "702d16fa-0a2a-4c74-b671-0958315f1c24",
   "metadata": {},
   "source": [
    "Here, 'tf.keras.Sequential' indicates that our model consists of a sequence of layers. \n",
    "'keras.layers.Dense' is a densely connected layer where each neuron receives input from all neurons of the previous layer. \n",
    "'units=1' means we have one neuron, and 'input_shape=[1]' specifies that the input is a single value.\n",
    "\n",
    "## Step 3: Compile the Neural Network\n",
    "\n",
    "To prepare the model for training, we need to compile it. This involves specifying a loss function and an optimizer. The loss function measures how well the model's predictions match the actual data, while the optimizer adjusts the model's parameters to minimize the loss."
   ]
  },
  {
   "cell_type": "code",
   "execution_count": null,
   "id": "6ad52f44-7d23-4ce5-a1d4-93e52949ea28",
   "metadata": {},
   "outputs": [],
   "source": [
    "model.compile(optimizer='sgd', loss='mean_squared_error')"
   ]
  },
  {
   "cell_type": "markdown",
   "id": "d02553fd-966c-483f-b8d7-58b65b120271",
   "metadata": {},
   "source": [
    "Here, 'sgd' stands for Stochastic Gradient Descent, a common optimization algorithm. \n",
    "'mean_squared_error' is a loss function that calculates the average squared difference between the predicted and actual values.\n",
    "\n",
    "## Step 4: Provide the Data\n",
    "\n",
    "We now need to provide data for training. We'll use six pairs of x and y values that follow our defined relationship 'y = 2x - 1'."
   ]
  },
  {
   "cell_type": "code",
   "execution_count": null,
   "id": "85daee45-b36b-442c-8ae2-0627524ae82c",
   "metadata": {},
   "outputs": [],
   "source": [
    "xs = np.array([-1.0, 0.0, 1.0, 2.0, 3.0, 4.0], dtype=float)\n",
    "ys = np.array([-3.0, -1.0, 1.0, 3.0, 5.0, 7.0], dtype=float)"
   ]
  },
  {
   "cell_type": "markdown",
   "id": "54a64b80-ebc8-43ab-b5c9-b66b011a25d3",
   "metadata": {},
   "source": [
    "Here, 'xs' contains the input values, and 'ys' contains the corresponding output values. \n",
    "We use numpy arrays for efficient computation.\n",
    "\n",
    "## Step 5: Train the Neural Network\n",
    "\n",
    "Training the neural network involves running the model on the provided data for a specified number of iterations (epochs). During each epoch, the model makes a prediction, calculates the loss, and adjusts the weights using the optimizer."
   ]
  },
  {
   "cell_type": "code",
   "execution_count": null,
   "id": "659c82c1-2f42-414a-8db6-d10467023819",
   "metadata": {},
   "outputs": [],
   "source": [
    "model.fit(xs, ys, epochs=500)"
   ]
  },
  {
   "cell_type": "code",
   "execution_count": null,
   "id": "54a15342-783d-440c-be1f-25964b966d67",
   "metadata": {},
   "outputs": [],
   "source": [
    ">>Epoch 1/500\n",
    "1/1 [==============================] - 1s 518ms/step - loss: 3.1363\n",
    "Epoch 2/500\n",
    "1/1 [==============================] - 0s 24ms/step - loss: 2.6248\n",
    "Epoch 3/500\n",
    "1/1 [==============================] - 0s 25ms/step - loss: 2.2191\n",
    "Epoch 4/500\n",
    "......\n",
    "......\n",
    "......\n",
    "Epoch 498/500\n",
    "1/1 [==============================] - 0s 12ms/step - loss: 2.7040e-05\n",
    "Epoch 499/500\n",
    "1/1 [==============================] - 0s 11ms/step - loss: 2.6485e-05\n",
    "Epoch 500/500\n",
    "1/1 [==============================] - 0s 10ms/step - loss: 2.5941e-05\n",
    "<keras.src.callbacks.History at 0x7eb67d437400>"
   ]
  },
  {
   "cell_type": "markdown",
   "id": "e513d7b2-04f1-4c56-8b19-5517cdc7175e",
   "metadata": {},
   "source": []
  },
  {
   "cell_type": "markdown",
   "id": "fb20994c-474e-4cd8-aebd-45abe0cf32db",
   "metadata": {},
   "source": [
    "This code trains the model on the xs and ys data for 500 epochs. \n",
    "The model.fit function executes the training loop, where it repeatedly makes predictions, computes the loss, and updates the model's parameters.\n",
    "\n",
    "## Step 6: Make Predictions\n",
    "\n",
    "After training, the model can make predictions for new input values. For example, we can predict the output for x = 10."
   ]
  },
  {
   "cell_type": "code",
   "execution_count": null,
   "id": "7afbda43-5f59-48c4-8b14-1431e4d032c8",
   "metadata": {},
   "outputs": [],
   "source": [
    "print(model.predict([10.0]))"
   ]
  },
  {
   "cell_type": "markdown",
   "id": "5dc689e3-c2a2-4f9b-97e4-8ab28a9961e7",
   "metadata": {},
   "source": [
    ">> 1/1 [==============================] - 0s 92ms/step\n",
    "[[18.98514]]"
   ]
  },
  {
   "cell_type": "markdown",
   "id": "3d5937ea-d50c-43fe-a8ac-ab635414862b",
   "metadata": {},
   "source": [
    "You might have thought 19, right? But it ended up being a little under. Why do you think that is?"
   ]
  },
  {
   "cell_type": "markdown",
   "id": "67821128-393f-4ef9-a17b-2860ef67b06b",
   "metadata": {},
   "source": [
    "## Understanding the Results\n",
    "\n",
    "The neural network attempts to find the best relationship between x and y based on the training data. With only six data points, the model learns an approximation of the relationship. As a result, the prediction for x = 10 might be close to 19 but not exactly 19. This behavior is typical in neural networks, which often deal with probabilities rather than certainties."
   ]
  },
  {
   "cell_type": "markdown",
   "id": "354b3a2a-16df-4de6-b158-853e49c473d0",
   "metadata": {},
   "source": [
    "## Recap\n",
    "\n",
    "1. Imports: Import TensorFlow, numpy, and keras.\n",
    "2. Define the Neural Network: Create a simple neural network with one layer and one neuron.\n",
    "3. Compile the Neural Network: Specify the loss function and optimizer.\n",
    "4. Provide the Data: Supply input-output pairs for training.\n",
    "5. Train the Neural Network: Run the training process for a specified number of epochs.\n",
    "6. Make Predictions: Use the trained model to predict outputs for new inputs.\n",
    "\n",
    "By following these steps, you can build and train a basic neural network to learn simple relationships between numbers. As you progress, you will encounter more complex scenarios and models, but the fundamental concepts remain the same."
   ]
  },
  {
   "cell_type": "markdown",
   "id": "870e8a1a-1408-46a4-bc0a-d0d4d5ede5ba",
   "metadata": {},
   "source": [
    "## Data Visualization\n",
    "\n",
    "To visualize the input data xs and ys, you can use the matplotlib library in Python. \n",
    "Here’s a simple script to plot these data points:"
   ]
  },
  {
   "cell_type": "code",
   "execution_count": null,
   "id": "72ec7a3e-9db7-4010-b55b-4f9e2281546d",
   "metadata": {},
   "outputs": [],
   "source": [
    "import matplotlib.pyplot as plt\n",
    "\n",
    "# Plot the data\n",
    "plt.figure(figsize=(8, 6))\n",
    "plt.scatter(xs, ys, color='blue', label='Input Data')\n",
    "\n",
    "# Adding titles and labels\n",
    "plt.title('Input Data Visualization')\n",
    "plt.xlabel('xs (Input Values)')\n",
    "plt.ylabel('ys (Output Values)')\n",
    "\n",
    "# Adding a grid\n",
    "plt.grid(True)\n",
    "\n",
    "# Adding a legend\n",
    "plt.legend()\n",
    "\n",
    "# Show the plot\n",
    "plt.show()"
   ]
  },
  {
   "cell_type": "markdown",
   "id": "35c64e32-1a0c-4b91-8ac3-416e12a4aa3d",
   "metadata": {},
   "source": [
    "To visualize both the input data and the predictions on the same graph, you can modify the previous code to include the predictions in red. \n",
    "\n",
    "Here’s how you can do it:\n",
    "\n",
    "1. Train the neural network to get the predictions.\n",
    "2. Plot both the input data and the predictions.\n",
    "\n",
    "Here's the complete code:"
   ]
  },
  {
   "cell_type": "code",
   "execution_count": null,
   "id": "4eaad02f-fe36-4ab6-b00c-ef7a77c5e33f",
   "metadata": {},
   "outputs": [],
   "source": [
    "import matplotlib.pyplot as plt\n",
    "\n",
    "# Train the neural network\n",
    "model.fit(xs, ys, epochs=500)\n",
    "\n",
    "# Make predictions\n",
    "predictions = model.predict(xs)\n",
    "\n",
    "# Plot the data\n",
    "plt.figure(figsize=(8, 6))\n",
    "plt.scatter(xs, ys, color='blue', label='Input Data')\n",
    "plt.plot(xs, predictions, color='red', label='Predictions')\n",
    "\n",
    "# Adding titles and labels\n",
    "plt.title('Input Data and Predictions Visualization')\n",
    "plt.xlabel('xs (Input Values)')\n",
    "plt.ylabel('ys (Output Values)')\n",
    "\n",
    "# Adding a grid\n",
    "plt.grid(True)\n",
    "\n",
    "# Adding a legend\n",
    "plt.legend()\n",
    "\n",
    "# Show the plot\n",
    "plt.show()"
   ]
  },
  {
   "attachments": {
    "277ef219-d32b-4d3d-8a18-eb547e384ce2.png": {
     "image/png": "[encoded data removed]"
    }
   },
   "cell_type": "markdown",
   "id": "ba4ec3a5-e11d-452c-bd17-c8d6c943ed91",
   "metadata": {},
   "source": [
    "![Linear_reg.png](attachment:277ef219-d32b-4d3d-8a18-eb547e384ce2.png)"
   ]
  },
  {
   "attachments": {
    "26019bc2-5a36-4152-8657-04e20b3731a6.png": {
     "image/png": "[encoded data removed]"
    }
   },
   "cell_type": "markdown",
   "id": "40bcb4da-6aeb-4186-881d-e49e319a8cb6",
   "metadata": {},
   "source": [
    "## Projectile motion\n",
    "\n",
    "Now, now we will model more complex data with a non-linear behavior : \n",
    "\n",
    "![trajectory.png](attachment:26019bc2-5a36-4152-8657-04e20b3731a6.png)"
   ]
  },
  {
   "cell_type": "code",
   "execution_count": null,
   "id": "379d7993-7721-49be-8c75-be44bf6e6cc6",
   "metadata": {},
   "outputs": [],
   "source": [
    "import numpy as np\n",
    "import matplotlib.pyplot as plt\n",
    "\n",
    "# Parameters for the projectile\n",
    "v0 = 20  # initial velocity (m/s)\n",
    "theta = 45  # launch angle (degrees)\n",
    "g = 9.81  # gravity (m/s^2)\n",
    "\n",
    "# Convert the angle to radians\n",
    "theta_rad = np.radians(theta)\n",
    "\n",
    "# Generate time points (0 to 5 seconds, every 0.1 second)\n",
    "xs = np.arange(0, 5, 0.1)\n",
    "\n",
    "# Calculate the height at each time point\n",
    "ys = v0 * xs * np.sin(theta_rad) - 0.5 * g * xs**2\n",
    "\n",
    "# Plot the trajectory\n",
    "plt.figure(figsize=(8, 6))\n",
    "plt.plot(xs, ys, color='blue')\n",
    "\n",
    "# Remove the axes\n",
    "plt.axis('off')\n",
    "\n",
    "# Show the plot\n",
    "plt.show()"
   ]
  },
  {
   "cell_type": "markdown",
   "id": "fc9e3a6c-235e-4365-872f-820081133f9f",
   "metadata": {},
   "source": [
    "Here, we use the same NN model without modification"
   ]
  },
  {
   "cell_type": "code",
   "execution_count": null,
   "id": "26bef17b-eb55-4ce2-aa8e-2581e77af759",
   "metadata": {},
   "outputs": [],
   "source": [
    "import tensorflow as tf\n",
    "import numpy as np\n",
    "import matplotlib.pyplot as plt\n",
    "from tensorflow import keras\n",
    "\n",
    "# Define the neural network (same as before)\n",
    "model = tf.keras.Sequential([\n",
    "    keras.layers.Dense(units=1, input_shape=[1])\n",
    "])\n",
    "\n",
    "model.compile(optimizer='sgd', loss='mean_squared_error')\n",
    "\n",
    "# Parameters for the projectile\n",
    "v0 = 20  # initial velocity (m/s)\n",
    "theta = 45  # launch angle (degrees)\n",
    "g = 9.81  # gravity (m/s^2)\n",
    "\n",
    "# Convert the angle to radians\n",
    "theta_rad = np.radians(theta)\n",
    "\n",
    "# Generate time points (0 to 5 seconds, every 0.1 second)\n",
    "xs = np.arange(0, 5, 0.1)\n",
    "\n",
    "# Calculate the height at each time point\n",
    "ys = v0 * xs * np.sin(theta_rad) - 0.5 * g * xs**2\n",
    "\n",
    "# Train the neural network\n",
    "model.fit(xs, ys, epochs=500)\n",
    "\n",
    "# Make predictions\n",
    "predictions = model.predict(xs)\n",
    "\n",
    "# Plot the data and predictions\n",
    "plt.figure(figsize=(8, 6))\n",
    "plt.scatter(xs, ys, color='blue', label='Input Data')\n",
    "plt.plot(xs, predictions, color='red', label='Predictions')\n",
    "\n",
    "# Remove the axes\n",
    "plt.axis('off')\n",
    "\n",
    "# Adding a legend\n",
    "plt.legend()\n",
    "\n",
    "# Show the plot\n",
    "plt.show()\n"
   ]
  },
  {
   "attachments": {
    "0142f127-65c1-47b4-a721-30e9777f5c46.png": {
     "image/png": "[encoded data removed]"
    }
   },
   "cell_type": "markdown",
   "id": "0532f54a-2ec3-480e-865f-3083a6dfe902",
   "metadata": {},
   "source": [
    "Result: The prediction does not follow the nonlinear trajectory.\n",
    "\n",
    "![trajectory_pred_linear.png](attachment:0142f127-65c1-47b4-a721-30e9777f5c46.png)"
   ]
  },
  {
   "cell_type": "markdown",
   "id": "2def0825-e93d-4c51-b4c4-28d7b35bcec5",
   "metadata": {},
   "source": [
    "## Neural Network modification  "
   ]
  },
  {
   "cell_type": "markdown",
   "id": "cb8b044c-1e0a-423f-9547-3bf57b7c71aa",
   "metadata": {},
   "source": [
    "Try the following configurations of network with two hidden layers with 5/10/64 neurons each, using the ReLU activation function, "
   ]
  },
  {
   "cell_type": "code",
   "execution_count": null,
   "id": "26edae8e-e113-4558-aaf2-d09d8b3ffcf5",
   "metadata": {},
   "outputs": [],
   "source": [
    "## 2 hidden layer, 5 neurons each\n",
    "model = tf.keras.Sequential([\n",
    "    keras.layers.Dense(units=10, activation='relu', input_shape=[1]),\n",
    "    keras.layers.Dense(units=10, activation='relu'),\n",
    "    keras.layers.Dense(units=1)\n",
    "])"
   ]
  },
  {
   "cell_type": "code",
   "execution_count": null,
   "id": "af5a3d04-a0a9-4210-9c9d-da3b0c5d793c",
   "metadata": {},
   "outputs": [],
   "source": [
    "## 2 hidden layer, 10 neurons each\n",
    "model = tf.keras.Sequential([\n",
    "    keras.layers.Dense(units=10, activation='relu', input_shape=[1]),\n",
    "    keras.layers.Dense(units=10, activation='relu'),\n",
    "    keras.layers.Dense(units=1)\n",
    "])"
   ]
  },
  {
   "cell_type": "code",
   "execution_count": null,
   "id": "7aaca47c-dd8b-4328-ade3-0c4ebd28486f",
   "metadata": {},
   "outputs": [],
   "source": [
    "## 2 hidden layer, 64 neurons each\n",
    "model = tf.keras.Sequential([\n",
    "    keras.layers.Dense(units=10, activation='relu', input_shape=[1]),\n",
    "    keras.layers.Dense(units=10, activation='relu'),\n",
    "    keras.layers.Dense(units=1)\n",
    "])"
   ]
  },
  {
   "attachments": {
    "4ac60f88-4d54-4283-a2e6-86610b374034.png": {
     "image/png": "[encoded data removed]"
    },
    "4cd70ba2-d0f0-429e-8403-c847952b7ea1.png": {
     "image/png": "[encoded data removed]"
    }
   },
   "cell_type": "markdown",
   "id": "6b79224d-841e-4507-a97a-4ed49e8685d0",
   "metadata": {},
   "source": [
    "Result: the prediction follows better the trajectory !\n",
    "\n",
    "![trajectory_pred_nonlinear_5.png](attachment:4ac60f88-4d54-4283-a2e6-86610b374034.png)![trajectory_pred_nonlinear_64.png](attachment:4cd70ba2-d0f0-429e-8403-c847952b7ea1.png)"
   ]
  },
  {
   "cell_type": "markdown",
   "id": "4f40d9b2-034e-4d67-b674-e95b26a0960c",
   "metadata": {},
   "source": [
    "# Exercices"
   ]
  },
  {
   "cell_type": "markdown",
   "id": "0b70080f-e518-4bfe-872b-3bc41582bf14",
   "metadata": {},
   "source": [
    "## Change the Initial Parameters\n",
    "\n",
    " - Set v0 to 30 m/s and theta to 80 degrees.\n",
    " - Train the neural network and plot the new trajectory.\n",
    " - Compare the results with the original parameters."
   ]
  },
  {
   "cell_type": "markdown",
   "id": "87069a35-e1ff-4cc6-91d4-fd499e64c3d2",
   "metadata": {},
   "source": [
    "## Add Noise to the Data\n",
    "\n",
    " - Add random noise to ys using np.random.normal(0, 1, size=ys.shape).\n",
    " - Train the neural network with the noisy data.\n",
    " - Plot and compare the predictions with and without noise."
   ]
  },
  {
   "cell_type": "code",
   "execution_count": null,
   "id": "a60aceef-4d7c-46cb-b084-67189d9e7483",
   "metadata": {},
   "outputs": [],
   "source": [
    "# Add random noise to the height data\n",
    "\n",
    "ys_noisy = ys + np.random.normal(0, 1, size=ys.shape)\n",
    "\n",
    "\n",
    "# Train the neural network with noisy data\n",
    "model.fit(xs, ys_noisy, epochs=2000, verbose=0)\n",
    "\n",
    "...\n",
    "\n",
    "# Plot the noisy data with predictions\n",
    "plt.scatter(xs, ys_noisy, color='blue', label='Noisy Input Data')"
   ]
  },
  {
   "cell_type": "markdown",
   "id": "1f236f3f-62d5-4eb0-ac5b-0638ad296488",
   "metadata": {},
   "source": [
    "## Use Different Activation Functions\n",
    "\n",
    " - Change the activation functions in the hidden layers from relu to tanh.\n",
    " - Train the neural network and plot the trajectory.\n",
    " - Compare the results with the relu activation function."
   ]
  },
  {
   "cell_type": "markdown",
   "id": "657e1a28-8ac5-4f79-b788-5b533783f195",
   "metadata": {},
   "source": [
    "'relu' -> 'tanh'"
   ]
  },
  {
   "cell_type": "markdown",
   "id": "5166b68f-ae2c-4904-b1ba-4ba07af07e8a",
   "metadata": {},
   "source": [
    "## Adjust the Neural Network Architecture\n",
    "\n",
    " - Add a third hidden layer with 32 neurons.\n",
    " - Train the neural network and plot the trajectory.\n",
    " - Compare the results with the original architecture."
   ]
  },
  {
   "cell_type": "code",
   "execution_count": null,
   "id": "55333194-557c-4bcf-9b73-b1fff22663d3",
   "metadata": {},
   "outputs": [],
   "source": [
    "# Define the neural network with three hidden layers\n",
    "model = tf.keras.Sequential([\n",
    "    keras.layers.Dense(units=64, activation='relu', input_shape=[1]),\n",
    "    keras.layers.Dense(units=64, activation='relu'),\n",
    "    keras.layers.Dense(units=32, activation='relu'),\n",
    "    keras.layers.Dense(units=1)\n",
    "])"
   ]
  },
  {
   "cell_type": "markdown",
   "id": "d7c22121-bf16-4c14-a6db-8b8537b60f48",
   "metadata": {},
   "source": [
    "## Use a Different Optimizer\n",
    "\n",
    " - Change the optimizer from adam to sgd (Stochastic Gradient Descent).\n",
    " - Train the neural network and plot the trajectory.\n",
    " - Compare the results with the adam optimizer."
   ]
  },
  {
   "cell_type": "code",
   "execution_count": null,
   "id": "15ee4372-9a0e-4558-8d95-fb794cade86d",
   "metadata": {},
   "outputs": [],
   "source": [
    "'adam' -> 'sgd'"
   ]
  },
  {
   "cell_type": "markdown",
   "id": "c173c1cf-eac5-40a5-845e-195426583fd1",
   "metadata": {},
   "source": [
    "## Predict Future Points\n",
    "\n",
    " - Extend the time points xs to 7 seconds.\n",
    " - Use the trained neural network to predict heights for the extended time range.\n",
    " - Plot and compare the predictions with the expected parabolic trajectory."
   ]
  },
  {
   "cell_type": "code",
   "execution_count": null,
   "id": "9cbebba8-c36e-4014-bd56-aef3f8a32fa1",
   "metadata": {},
   "outputs": [],
   "source": [
    "# Extend the time points to 7 seconds\n",
    "xs_extended = np.arange(0, 7, 0.1)\n",
    "\n",
    "# Make predictions for the extended time range\n",
    "predictions_extended = model.predict(xs_extended)\n",
    "\n",
    "# Calculate the expected heights for the extended range\n",
    "ys_extended = v0 * xs_extended * np.sin(theta_rad) - 0.5 * g * xs_extended**2\n",
    "\n",
    "# Plot the data and predictions\n",
    "plt.figure(figsize=(8, 6))\n",
    "plt.scatter(xs_extended, ys_extended, color='blue', label='Expected Data')\n",
    "plt.plot(xs_extended, predictions_extended, color='red', label='Predictions')"
   ]
  },
  {
   "cell_type": "markdown",
   "id": "201127ad-73df-489e-ae59-f371a66ec174",
   "metadata": {},
   "source": [
    "## Evaluate Model Performance\n",
    "\n",
    " - Calculate the Mean Squared Error (MSE) between the predicted and actual heights.\n",
    " - Print the MSE value and discuss its significance.\n",
    " - Experiment with different neural network architectures to minimize the MSE."
   ]
  },
  {
   "cell_type": "code",
   "execution_count": null,
   "id": "61592668-9dbe-4384-9283-c27b9560ac54",
   "metadata": {},
   "outputs": [],
   "source": [
    "# Calculate Mean Squared Error (MSE)\n",
    "mse = mean_squared_error(ys, predictions)\n",
    "print(f\"Mean Squared Error: {mse}\")"
   ]
  },
  {
   "cell_type": "markdown",
   "id": "2d117fcd-5f2a-4035-a7dd-f7fda8167d18",
   "metadata": {},
   "source": [
    "## Visualize Training Loss\n",
    "\n",
    " - Modify the code to store the training loss at each epoch.\n",
    " - Plot the training loss against epochs.\n",
    " - Discuss the training process and how the loss changes over time."
   ]
  },
  {
   "cell_type": "code",
   "execution_count": null,
   "id": "17aa3c02-adb8-40f3-9a17-31902c84b484",
   "metadata": {},
   "outputs": [],
   "source": [
    "# Train the neural network and store the training loss\n",
    "history = model.fit(xs, ys, epochs=2000, verbose=0)\n",
    "\n",
    "# Plot the training loss\n",
    "plt.figure(figsize=(8, 6))\n",
    "plt.plot(history.history['loss'], label='Training Loss')\n",
    "plt.title('Training Loss over Epochs')\n",
    "plt.xlabel('Epochs')\n",
    "plt.ylabel('Loss')\n",
    "plt.legend()\n",
    "plt.show()"
   ]
  },
  {
   "cell_type": "markdown",
   "id": "06ddd89b-650b-41de-8f57-f2ac0757430a",
   "metadata": {},
   "source": [
    "## Exercice "
   ]
  },
  {
   "cell_type": "markdown",
   "id": "83315dab-f775-4f4c-9717-e14c59a602f1",
   "metadata": {},
   "source": [
    "In this exercise, you will build a simple neural network to predict the price of a house based on the number of bedrooms it has. The relationship between the number of bedrooms and the price is given by a straightforward formula:\n",
    "\n",
    "Price = 50k + (50k x number of bedrooms)\n",
    "\n",
    "For example:\n",
    "- A house with 1 bedroom costs \\( 100k \\)\n",
    "- A house with 2 bedrooms costs \\( 150k \\)\n",
    "- A house with 3 bedrooms costs \\( 200k \\)\n",
    "- And so on...\n",
    "\n",
    "The task is to create a neural network that learns this relationship and can predict the price of a house with 7 bedrooms.\n",
    "\n",
    "### Steps and Explanation\n",
    "\n",
    "1. **Import Necessary Libraries**:\n",
    "\n",
    "   These imports bring in TensorFlow for building the neural network, NumPy for handling the data, and Matplotlib for plotting the results.\n",
    "\n",
    "2. **Define the Neural Network**:\n",
    "\n",
    "   Create a simple neural network with one layer containing one neuron. The input to the network will be a single value (number of bedrooms).\n",
    "\n",
    "3. **Compile the Model**:\n",
    "\n",
    "   Compile the model with the Stochastic Gradient Descent (SGD) optimizer and Mean Squared Error (MSE) as the loss function. This setup is suitable for regression problems.\n",
    "\n",
    "4. **Prepare the Training Data**:\n",
    "\n",
    "   Define `xs` to represent the number of bedrooms and `ys` to represent the scaled prices of the houses. Instead of using prices like 100k, 150k, etc., use scaled values like 1.0, 1.5, 2.0, etc., to make the training process more efficient. This scaling down helps to manage large values and often results in better training performance.\n",
    "\n",
    "5. **Train the Model**:\n",
    "\n",
    "   Train the model on the data for 1000 epochs. Each epoch represents one complete pass through the entire training dataset.\n",
    "\n",
    "6. **Make Predictions**:\n",
    "\n",
    "   Use the model to predict the scaled price for a house with 7 bedrooms. Since the prices were scaled down by a factor of 100, the prediction will be in the same scale and should be close to 4 (which corresponds to 400k when scaled back up).\n",
    "\n",
    "7. **Visualize the Results**:\n",
    "\n",
    "   To visualize the input data, actual outputs, and the predictions, add code to plot these values using Matplotlib.\n"
   ]
  },
  {
   "cell_type": "markdown",
   "id": "087348b3-6c7e-426b-9748-578c312da6d3",
   "metadata": {},
   "source": [
    "# Deliverables\n",
    "\n",
    "Submit the modified code for each exercise.\n",
    "\n",
    "Provide a brief report on the impact of each modification on model performance. Include accuracy, loss, and any other relevant metrics."
   ]
  }
 ],
 "metadata": {
  "kernelspec": {
   "display_name": "Python 3 (ipykernel)",
   "language": "python",
   "name": "python3"
  },
  "language_info": {
   "codemirror_mode": {
    "name": "ipython",
    "version": 3
   },
   "file_extension": ".py",
   "mimetype": "text/x-python",
   "name": "python",
   "nbconvert_exporter": "python",
   "pygments_lexer": "ipython3",
   "version": "3.11.7"
  }
 },
 "nbformat": 4,
 "nbformat_minor": 5
}
