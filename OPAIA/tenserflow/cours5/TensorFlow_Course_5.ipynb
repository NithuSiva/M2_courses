{
 "cells": [
  {
   "cell_type": "code",
   "execution_count": null,
   "id": "517b8417-cf92-466e-917b-816a8eec97db",
   "metadata": {},
   "outputs": [],
   "source": [
    "# Based on the TensFlow course : https://www.tensorflow.org/tutorials/keras/text_classification\n",
    "# Modified by Mehdi Ammi, Univ. Paris 8"
   ]
  },
  {
   "cell_type": "markdown",
   "id": "36a88510-ae6a-4eb5-9b9c-553cad3eb183",
   "metadata": {},
   "source": [
    "# TensorFlow: Text classification \n",
    "\n",
    "In this notebook, you'll learn how to perform text classification starting from plain text files stored on disk. Specifically, you'll train a binary classifier to analyze sentiment using an IMDB dataset. By the end of the notebook, there's an exercise for you to try, where you'll train a multi-class classifier to predict tags for programming questions on Stack Overflow.\n",
    "\n"
   ]
  },
  {
   "cell_type": "code",
   "execution_count": null,
   "id": "4d32093b-ad15-4418-856f-1e68b6d2d49f",
   "metadata": {},
   "outputs": [],
   "source": [
    "import matplotlib.pyplot as plt\n",
    "import os\n",
    "import re\n",
    "import shutil\n",
    "import string\n",
    "import tensorflow as tf\n",
    "from tensorflow.keras import layers\n",
    "from tensorflow.keras import losses\n",
    "\n",
    "print(tf.__version__)"
   ]
  },
  {
   "cell_type": "markdown",
   "id": "163abe37-39f9-4b17-9ce5-01504a3abc69",
   "metadata": {},
   "source": [
    "## Sentiment Analysis\n",
    "In this notebook, we'll train a sentiment analysis model to classify movie reviews as either positive or negative, based on the text of the review. This is an example of binary classification, a crucial type of machine learning problem.\n",
    "\n",
    "The dataset used here is the Large Movie Review Dataset, which includes 50,000 movie reviews from the Internet Movie Database. These are split evenly into 25,000 reviews for training and 25,000 reviews for testing.\n",
    "\n",
    "### Download and Explore the IMDB Dataset\n",
    "Let's download and extract the dataset, then examine its directory structure."
   ]
  },
  {
   "cell_type": "code",
   "execution_count": null,
   "id": "c1302819-8c7e-4fe4-ab59-56627ee666ac",
   "metadata": {},
   "outputs": [],
   "source": [
    "url = \"https://ai.stanford.edu/~amaas/data/sentiment/aclImdb_v1.tar.gz\"\n",
    "\n",
    "dataset = tf.keras.utils.get_file(\"aclImdb_v1\", url,\n",
    "                                    untar=True, cache_dir='.',\n",
    "                                    cache_subdir='')\n",
    "\n",
    "dataset_dir = os.path.join(os.path.dirname(dataset), 'aclImdb')"
   ]
  },
  {
   "cell_type": "code",
   "execution_count": null,
   "id": "38d12fc7-1834-4a04-81c0-546cd0eca92e",
   "metadata": {},
   "outputs": [],
   "source": [
    ">>\n",
    "Downloading data from https://ai.stanford.edu/~amaas/data/sentiment/aclImdb_v1.tar.gz\n",
    "84125825/84125825 ━━━━━━━━━━━━━━━━━━━━ 5s 0us/step"
   ]
  },
  {
   "cell_type": "code",
   "execution_count": null,
   "id": "09d3bde3-f92b-42b6-8234-d0d0dc04aebc",
   "metadata": {},
   "outputs": [],
   "source": [
    "os.listdir(dataset_dir)"
   ]
  },
  {
   "cell_type": "code",
   "execution_count": null,
   "id": "0d662e42-a98c-4338-9902-e496b356003b",
   "metadata": {},
   "outputs": [],
   "source": [
    ">>\n",
    "['imdb.vocab', 'README', 'test', 'imdbEr.txt', 'train']"
   ]
  },
  {
   "cell_type": "code",
   "execution_count": null,
   "id": "2bd64f81-b4fd-49c9-950a-fb7ae03a5b9f",
   "metadata": {},
   "outputs": [],
   "source": [
    "train_dir = os.path.join(dataset_dir, 'train')\n",
    "os.listdir(train_dir)"
   ]
  },
  {
   "cell_type": "code",
   "execution_count": null,
   "id": "e6d9bfa5-348b-4820-b853-c17d1f3024e6",
   "metadata": {},
   "outputs": [],
   "source": [
    ">>\n",
    "['unsup',\n",
    " 'urls_neg.txt',\n",
    " 'labeledBow.feat',\n",
    " 'unsupBow.feat',\n",
    " 'neg',\n",
    " 'urls_unsup.txt',\n",
    " 'urls_pos.txt',\n",
    " 'pos']"
   ]
  },
  {
   "cell_type": "markdown",
   "id": "5fac2fbe-1e1b-46b1-8164-208f9bd1a3d8",
   "metadata": {},
   "source": [
    "### Sample a Review\n",
    "Let's take a look at one of the movie reviews."
   ]
  },
  {
   "cell_type": "code",
   "execution_count": null,
   "id": "0eab65fe-333b-4f18-be5b-04595a10f706",
   "metadata": {},
   "outputs": [],
   "source": [
    "sample_file = os.path.join(train_dir, 'pos/1181_9.txt')\n",
    "with open(sample_file) as f:\n",
    "  print(f.read())"
   ]
  },
  {
   "cell_type": "code",
   "execution_count": null,
   "id": "6e6b3bdc-f037-460c-b39f-2df90f0cc579",
   "metadata": {},
   "outputs": [],
   "source": [
    ">>\n",
    "Rachel Griffiths writes and directs this award winning short film. A heartwarming story about coping with grief and cherishing the memory of those we've loved and lost. Although, only 15 minutes long, Griffiths manages to capture so much emotion and truth onto film in the short space of time. Bud Tingwell gives a touching performance as Will, a widower struggling to cope with his wife's death. Will is confronted by the harsh reality of loneliness and helplessness as he proceeds to take care of Ruth's pet cow, Tulip. The film displays the grief and responsibility one feels for those they have loved and lost. Good cinematography, great direction, and superbly acted. It will bring tears to all those who have lost a loved one, and survived."
   ]
  },
  {
   "cell_type": "markdown",
   "id": "497fc44a-27ce-40d7-b918-3d9bad44294b",
   "metadata": {},
   "source": [
    "### Load the Dataset\n",
    "Next, we'll load the data from disk and prepare it for training. We'll use the text_dataset_from_directory utility, which expects a specific directory structure. Before doing that, let's remove unnecessary folders."
   ]
  },
  {
   "cell_type": "code",
   "execution_count": null,
   "id": "00d4b3ba-2512-43d5-87d9-7fff57559897",
   "metadata": {},
   "outputs": [],
   "source": [
    "remove_dir = os.path.join(train_dir, 'unsup')\n",
    "shutil.rmtree(remove_dir)"
   ]
  },
  {
   "cell_type": "code",
   "execution_count": null,
   "id": "2cd72455-5612-4a74-a22d-869dee3e68bd",
   "metadata": {},
   "outputs": [],
   "source": [
    "# Define the batch size for the dataset\n",
    "batch_size = 32\n",
    "\n",
    "# Define the seed for reproducibility\n",
    "seed = 42\n",
    "\n",
    "# Load the raw training dataset using the text_dataset_from_directory utility\n",
    "raw_train_ds = tf.keras.utils.text_dataset_from_directory(\n",
    "    'aclImdb/train',  # Path to the directory containing the training data\n",
    "    batch_size=batch_size,  # Set the batch size\n",
    "    validation_split=0.2,  # Specify the fraction of data to be used for validation (20%)\n",
    "    subset='training',  # Indicate that this subset is for training\n",
    "    seed=seed  # Set the seed for reproducibility of the data split\n",
    ")"
   ]
  },
  {
   "cell_type": "code",
   "execution_count": null,
   "id": "3d7ec43f-2188-4cc5-ab3a-e8801c759278",
   "metadata": {},
   "outputs": [],
   "source": [
    ">>\n",
    "Found 25000 files belonging to 2 classes.\n",
    "Using 20000 files for training."
   ]
  },
  {
   "cell_type": "code",
   "execution_count": null,
   "id": "9e9c4add-a4a1-4131-80c3-b87280c38561",
   "metadata": {},
   "outputs": [],
   "source": [
    "As you can see above, there are 25,000 examples in the training folder, of which you will use 80% (or 20,000) for training. As you will see in a moment, you can train a model by passing a dataset directly to model.fit. If you're new to tf.data, you can also iterate over the dataset and print out a few examples as follows."
   ]
  },
  {
   "cell_type": "markdown",
   "id": "4d4fcc61-1870-4176-8a0d-01bb68cbe933",
   "metadata": {},
   "source": [
    "### Explore the Data\n",
    "\n",
    "Let's examine a few examples from our dataset."
   ]
  },
  {
   "cell_type": "code",
   "execution_count": null,
   "id": "5cf45d89-c4a0-4e29-a3bb-b5241a0ea59e",
   "metadata": {},
   "outputs": [],
   "source": [
    "# Iterate over one batch of data from the raw training dataset\n",
    "for text_batch, label_batch in raw_train_ds.take(1):\n",
    "    # Loop through the first three examples in the batch\n",
    "    for i in range(3):\n",
    "        # Print the text of the review\n",
    "        print(\"Review\", text_batch.numpy()[i])\n",
    "        # Print the label of the review\n",
    "        print(\"Label\", label_batch.numpy()[i])"
   ]
  },
  {
   "cell_type": "code",
   "execution_count": null,
   "id": "ab969abb-6647-4a81-bab8-6eddbed73bfb",
   "metadata": {},
   "outputs": [],
   "source": [
    ">>\n",
    "Review b'\"Pandemonium\" is a horror movie spoof that comes off more stupid than funny. Believe me when I tell you, I love comedies. Especially comedy spoofs. \"Airplane\", \"The Naked Gun\" trilogy, \"Blazing Saddles\", \"High Anxiety\", and \"Spaceballs\" are some of my favorite comedies that spoof a particular genre. \"Pandemonium\" is not up there with those films. Most of the scenes in this movie had me sitting there in stunned silence because the movie wasn\\'t all that funny. There are a few laughs in the film, but when you watch a comedy, you expect to laugh a lot more than a few times and that\\'s all this film has going for it. Geez, \"Scream\" had more laughs than this film and that was more of a horror film. How bizarre is that?<br /><br />*1/2 (out of four)'\n",
    "Label 0\n",
    "Review b\"David Mamet is a very interesting and a very un-equal director. His first movie 'House of Games' was the one I liked best, and it set a series of films with characters whose perspective of life changes as they get into complicated situations, and so does the perspective of the viewer.<br /><br />So is 'Homicide' which from the title tries to set the mind of the viewer to the usual crime drama. The principal characters are two cops, one Jewish and one Irish who deal with a racially charged area. The murder of an old Jewish shop owner who proves to be an ancient veteran of the Israeli Independence war triggers the Jewish identity in the mind and heart of the Jewish detective.<br /><br />This is were the flaws of the film are the more obvious. The process of awakening is theatrical and hard to believe, the group of Jewish militants is operatic, and the way the detective eventually walks to the final violent confrontation is pathetic. The end of the film itself is Mamet-like smart, but disappoints from a human emotional perspective.<br /><br />Joe Mantegna and William Macy give strong performances, but the flaws of the story are too evident to be easily compensated.\"\n",
    "Label 0\n",
    "Review b'Great documentary about the lives of NY firefighters during the worst terrorist attack of all time.. That reason alone is why this should be a must see collectors item.. What shocked me was not only the attacks, but the\"High Fat Diet\" and physical appearance of some of these firefighters. I think a lot of Doctors would agree with me that,in the physical shape they were in, some of these firefighters would NOT of made it to the 79th floor carrying over 60 lbs of gear. Having said that i now have a greater respect for firefighters and i realize becoming a firefighter is a life altering job. The French have a history of making great documentary\\'s and that is what this is, a Great Documentary.....'\n",
    "Label 1"
   ]
  },
  {
   "cell_type": "markdown",
   "id": "c025a3a1-1eed-470d-b587-5190a1199ee6",
   "metadata": {},
   "source": [
    "Notice the reviews contain raw text (with punctuation and occasional HTML tags like <br/>). You will show how to handle these in the following section.\n",
    "\n",
    "The labels are 0 or 1. To see which of these correspond to positive and negative movie reviews, you can check the class_names property on the dataset."
   ]
  },
  {
   "cell_type": "code",
   "execution_count": null,
   "id": "5c7e84c8-700a-4365-b8d6-152267d11296",
   "metadata": {},
   "outputs": [],
   "source": [
    "print(\"Label 0 corresponds to\", raw_train_ds.class_names[0])\n",
    "print(\"Label 1 corresponds to\", raw_train_ds.class_names[1])"
   ]
  },
  {
   "cell_type": "code",
   "execution_count": null,
   "id": "9a42d234-6bb0-4f5f-ac52-fcf0cea70f09",
   "metadata": {},
   "outputs": [],
   "source": [
    ">>\n",
    "Label 0 corresponds to neg\n",
    "Label 1 corresponds to pos"
   ]
  },
  {
   "cell_type": "markdown",
   "id": "505da54d-90b0-4863-9402-8b825ceebac3",
   "metadata": {},
   "source": [
    "### Create Validation and Test Datasets\n",
    "\n",
    "Next, let's create a validation dataset and load the test dataset."
   ]
  },
  {
   "cell_type": "code",
   "execution_count": null,
   "id": "56e108a8-3683-45a8-b11c-ea45a8b0095f",
   "metadata": {},
   "outputs": [],
   "source": [
    "# Create a validation dataset using the remaining 20% of the training data\n",
    "raw_val_ds = tf.keras.utils.text_dataset_from_directory(\n",
    "    'aclImdb/train',\n",
    "    batch_size=batch_size,\n",
    "    validation_split=0.2,\n",
    "    subset='validation',\n",
    "    seed=seed)\n",
    "\n",
    "# Load the test dataset\n",
    "raw_test_ds = tf.keras.utils.text_dataset_from_directory(\n",
    "    'aclImdb/test',\n",
    "    batch_size=batch_size)"
   ]
  },
  {
   "cell_type": "code",
   "execution_count": null,
   "id": "44cd6217",
   "metadata": {},
   "outputs": [],
   "source": [
    ">>\n",
    "Found 25000 files belonging to 2 classeX"
   ]
  },
  {
   "cell_type": "markdown",
   "id": "e04c87d4-f4c2-4fd5-a01a-59d8d39b7785",
   "metadata": {},
   "source": [
    "### Prepare the dataset for training\n",
    "\n",
    "Next, you will standardize, tokenize, and vectorize the data using the helpful tf.keras.layers.TextVectorization layer.\n",
    "\n",
    "Standardization refers to preprocessing the text, typically to remove punctuation or HTML elements to simplify the dataset. Tokenization refers to splitting strings into tokens (for example, splitting a sentence into individual words, by splitting on whitespace). Vectorization refers to converting tokens into numbers so they can be fed into a neural network. All of these tasks can be accomplished with this layer.\n",
    "\n",
    "As you saw above, the reviews contain various HTML tags like <br />. These tags will not be removed by the default standardizer in the TextVectorization layer (which converts text to lowercase and strips punctuation by default, but doesn't strip HTML). You will write a custom standardization function to remove the HTML."
   ]
  },
  {
   "cell_type": "code",
   "execution_count": null,
   "id": "584d27f7",
   "metadata": {},
   "outputs": [],
   "source": [
    "# Custom standardization function to remove HTML tags and punctuation\n",
    "def custom_standardization(input_data):\n",
    "  lowercase = tf.strings.lower(input_data)\n",
    "  stripped_html = tf.strings.regex_replace(lowercase, '<br />', ' ')\n",
    "  return tf.strings.regex_replace(stripped_html,\n",
    "                                  '[%s]' % re.escape(string.punctuation),\n",
    "                                  '')"
   ]
  },
  {
   "cell_type": "markdown",
   "id": "9f587b06-c343-46c0-a0f8-882e07225660",
   "metadata": {},
   "source": [
    "Next, you will create a TextVectorization layer. You will use this layer to standardize, tokenize, and vectorize our data. You set the output_mode to int to create unique integer indices for each token.\n",
    "\n",
    "Note that you're using the default split function, and the custom standardization function you defined above. You'll also define some constants for the model, like an explicit maximum sequence_length, which will cause the layer to pad or truncate sequences to exactly sequence_length values."
   ]
  },
  {
   "cell_type": "code",
   "execution_count": null,
   "id": "f9d23370-dde9-4d05-8de4-a3816fe0ef51",
   "metadata": {},
   "outputs": [],
   "source": [
    "max_features = 10000\n",
    "sequence_length = 250\n",
    "\n",
    "# Create a TextVectorization layer with custom standardization\n",
    "vectorize_layer = layers.TextVectorization(\n",
    "    standardize=custom_standardization,\n",
    "    max_tokens=max_features,\n",
    "    output_mode='int',\n",
    "    output_sequence_length=sequence_length)"
   ]
  },
  {
   "cell_type": "markdown",
   "id": "6fd1dea1-7bd1-4afa-948f-862e4a44894e",
   "metadata": {},
   "source": [
    "Next, you will call adapt to fit the state of the preprocessing layer to the dataset. This will cause the model to build an index of strings to integers."
   ]
  },
  {
   "cell_type": "code",
   "execution_count": null,
   "id": "09645fbb-2391-49be-9194-3d9ee341a21b",
   "metadata": {},
   "outputs": [],
   "source": [
    "# Make a text-only dataset (without labels), then call adapt\n",
    "train_text = raw_train_ds.map(lambda x, y: x)\n",
    "vectorize_layer.adapt(train_text)"
   ]
  },
  {
   "cell_type": "markdown",
   "id": "428d5723-2e1d-4608-bc0b-2ba3eb04bc98",
   "metadata": {},
   "source": [
    "### Vectorize the Data\n",
    "\n",
    "Let's create a function to see the result of using this layer to preprocess some data."
   ]
  },
  {
   "cell_type": "code",
   "execution_count": null,
   "id": "68ce25fb-4ce3-444b-9cca-a6f2bc53eda4",
   "metadata": {},
   "outputs": [],
   "source": [
    "def vectorize_text(text, label):\n",
    "  text = tf.expand_dims(text, -1)\n",
    "  return vectorize_layer(text), label\n",
    "\n",
    "# retrieve a batch (of 32 reviews and labels) from the dataset\n",
    "text_batch, label_batch = next(iter(raw_train_ds))\n",
    "first_review, first_label = text_batch[0], label_batch[0]\n",
    "print(\"Review\", first_review)\n",
    "print(\"Label\", raw_train_ds.class_names[first_label])\n",
    "print(\"Vectorized review\", vectorize_text(first_review, first_label))"
   ]
  },
  {
   "cell_type": "code",
   "execution_count": null,
   "id": "a57b71ba-2ee3-4942-8a9d-affa32b511b2",
   "metadata": {},
   "outputs": [],
   "source": [
    ">>\n",
    "Review tf.Tensor(b'\"Emma\" was a product of what might be called by the First Great Jane Austen Cycle of the mid-nineties, and it was recently shown on British television, doubtless because of the interest in the author created by the Second Great Jane Austen Cycle which started with \"Pride and Prejudice\" two years ago. We currently have in the cinemas the Austen biopic \"Becoming Jane\", and ITV have recently produced three TV movies based on Austen novels. These include \"Northanger Abbey\", the only one of the six major novels not to have been filmed previously, so the cycle should now be complete. No doubt, however, there will be more to come in the near future. (There is, after all, her juvenile \"Love and Freindship\" (sic), the short novella \"Lady Susan\", and someone, somewhere, has doubtless supplied endings to her two unfinished fragments \"The Watsons\" and \"Sanditon\". Then there are all those Austen sequels churned out by modern writers\\xc2\\x85\\xc2\\x85\\xc2\\x85).<br /><br />The main character is Emma Woodhouse, a young lady from an aristocratic family in Regency England. (Not, as some reviewers have assumed, Victorian England- Austen died before Queen Victoria was even born). Emma is, financially, considerably better off than most Austen heroines such as Elizabeth Bennett or Fanny Price, and has no need to find herself a wealthy husband. Instead, her main preoccupation seems to be finding husbands for her friends. She persuades her friend Harriet to turn down a proposal of marriage from a young farmer, Robert Martin, believing that Harriet should be setting her sights on the ambitious clergyman Mr Elton. This scheme goes disastrously wrong, however, as Elton has no interest in Harriet, but has fallen in love with Emma herself. The speed with which Emma rejects his proposal makes one wonder just why she was so keen to match her friend with a man she regards (with good reason) as an unsuitable marriage partner for herself. This being a Jane Austen plot, Emma turns out to be less of a committed spinster than she seems, and she too finds herself falling in love, leading to further complications.<br /><br />Emma always insists that she will not marry without affection, and when she does find a partner, the handsome Mr Knightley, we feel that this will indeed be an affectionate marriage. It does not, however, seem likely to be a very passionate one (unlike, say, that of Elizabeth Bennett and Mr Darcy). Knightley, who is sixteen years older than Emma (she is 21, he 37), and related to her by marriage, is more like a father-figure than a lover. Much more of a father-figure, in fact, than her actual father, a querulous and selfish old hypochondriac who seems more like her grandfather. When Emma is rude to her unbearably garrulous and tedious friend Miss Bates, it is Knightley who chides her for her lack of manners. (His surname is probably meant to indicate his gentlemanly nature- nineteenth-century gentlemen liked to think of themselves as the modern equivalent of mediaeval knights with their elaborate codes of chivalry). Both Gwyneth Paltrow and Jeremy Northam play their parts very well, but this is not really one of the great screen romances.<br /><br />Of the other characters, I liked Juliet Stephenson\\'s vulgar Mrs Elton and Toni Collette\\'s Harriet. I know that in the novel Harriet was a na\\xc3\\xafve young teenager, whereas here she is more like the character Collette played in \"Muriel\\'s Wedding\"- a gauche, slightly overweight twentysomething, fretting about her chances of finding a man. Nevertheless, I felt that this characterisation worked well in the context of the film and did not detract from Austen\\'s themes.<br /><br />\"Emma\" is one of Austen\\'s more light-hearted works, without the darker overtones of \"Mansfield Park\" or even \"Pride and Prejudice\", and this is reflected on screen. We see a world of beauty and grace, full of stately homes and elegant costumes and fine manners. Apart from the ruffianly gypsies, who make a very brief appearance, the only \"poor\" people we see are Mrs Bates and her daughter, and, as they live in the sort of picturesque rose-strewn thatched cottage which today would change hands for over \\xc2\\xa3500,000, we can be sure that their poverty is relative, not absolute. In Emma\\'s world, poverty is defined as not having your own stately home. This is, of course, not a comprehensive picture of early nineteenth-century life, but nobody has ever claimed Austen as the Regency equivalent of a kitchen-sink realist. Sophisticated romantic comedy, combined with a keen eye for analysing human character, was more in her line.<br /><br />I would not rate this film quite as highly as the 1994 \"Sense and Sensibility\" or the recent \"Pride and Prejudice\"- it tends to drag a bit in the middle, although it has a strong beginning and strong ending- but it is, in the main, a highly enjoyable Austen adaptation. 7/10', shape=(), dtype=string)\n",
    "Label pos\n",
    "Vectorized review (<tf.Tensor: shape=(1, 250), dtype=int64, numpy=\n",
    "array([[2528,   13,    4, 2218,    5,   48,  227,   26,  488,   32,    2,\n",
    "          83,   86, 1007, 6768, 6996,    5,    2,    1,    3,    9,   13,\n",
    "         986,  581,   20,  681,  708,    1,   84,    5,    2,  598,    8,\n",
    "           2, 2174, 1033,   32,    2,  333,   86, 1007, 6768, 6996,   60,\n",
    "         606,   16, 3114,    3, 5437,  104,  149,  589,   71, 3780,   25,\n",
    "           8,    2, 4959,    2, 6768, 6887, 1587, 1007,    3,    1,   25,\n",
    "         986, 1118,  297,  243,   91,  443,   20, 6768, 2630,  129, 1429,\n",
    "           1,    1,    2,   61,   28,    5,    2, 1539,  653, 2630,   21,\n",
    "           6,   25,   74,  814, 2353,   37,    2, 6996,  139,  148,   26,\n",
    "         555,   57,  803,  189,   47,   76,   26,   50,    6,  203,    8,\n",
    "           2,  781,  701,   47,    7,  101,   30,   39, 3697,  115,    3,\n",
    "           1,    1,    2,  350,    1,  729, 2744,    3,  282, 1116,   43,\n",
    "           1,    1, 4055,    6,   39,  104,    1,    1,    2,    1,    3,\n",
    "           1,   92,   47,   23,   30,  143, 6768, 2141,    1,   44,   32,\n",
    "         709,    1,    2,  275,  106,    7, 2528,    1,    4,  181,  729,\n",
    "          35,   33,    1,  215,    8,    1, 1777,   21,   14,   46, 1870,\n",
    "          25, 5293, 7152, 1777, 6768, 1071,  153, 1573, 2375,   13,   53,\n",
    "        1461, 2528,    7,    1, 5765,  122,  127,   70,   88, 6768, 8660,\n",
    "         135,   14, 2722, 7422,   41,    1, 1841,    3,   43,   57,  349,\n",
    "           6,  163,  733,    4, 3109,  672,  291,   39,  275,    1,  180,\n",
    "           6,   26, 1578, 2978,   15,   39,  335,   55,    1,   39,  469,\n",
    "        5926,    6,  459,  185,    4,    1,    5, 1357,   35,    4,  181,\n",
    "        6023,  639, 1558, 3206,   12, 5926,  139,   26]])>, <tf.Tensor: shape=(), dtype=int32, numpy=1>)"
   ]
  },
  {
   "cell_type": "markdown",
   "id": "9064cf8f-5489-43c9-a8d8-2c9a5e6b21ec",
   "metadata": {},
   "source": [
    "As you can see above, each token has been replaced by an integer. You can lookup the token (string) that each integer corresponds to by calling .get_vocabulary() on the layer."
   ]
  },
  {
   "cell_type": "code",
   "execution_count": null,
   "id": "e1cc0def-2ea3-4fb3-9c9e-96bf2eb432e7",
   "metadata": {},
   "outputs": [],
   "source": [
    "print(\"1287 ---> \",vectorize_layer.get_vocabulary()[1287])\n",
    "print(\" 313 ---> \",vectorize_layer.get_vocabulary()[313])\n",
    "print('Vocabulary size: {}'.format(len(vectorize_layer.get_vocabulary())))"
   ]
  },
  {
   "cell_type": "code",
   "execution_count": null,
   "id": "9c64d18b-f3f7-455b-a5c1-8ba44281d87a",
   "metadata": {},
   "outputs": [],
   "source": [
    ">>\n",
    "1287 --->  silent\n",
    " 313 --->  night\n",
    "Vocabulary size: 10000"
   ]
  },
  {
   "cell_type": "markdown",
   "id": "e8512ed4-b6fe-44ba-bd21-10834ff41eef",
   "metadata": {},
   "source": [
    "### Apply TextVectorization Layer\n",
    "You are nearly ready to train your model. As a final preprocessing step, you will apply the TextVectorization layer you created earlier to the train, validation, and test dataset."
   ]
  },
  {
   "cell_type": "code",
   "execution_count": null,
   "id": "00c203f6-d637-4272-85c9-b6d167bd6e31",
   "metadata": {},
   "outputs": [],
   "source": [
    "# Apply the TextVectorization layer to the train, validation, and test datasets\n",
    "train_ds = raw_train_ds.map(vectorize_text)\n",
    "val_ds = raw_val_ds.map(vectorize_text)\n",
    "test_ds = raw_test_ds.map(vectorize_text)"
   ]
  },
  {
   "cell_type": "markdown",
   "id": "e4d6e108-2543-47e8-8a24-a0a92619e9f4",
   "metadata": {},
   "source": [
    "### Configure the dataset for performance"
   ]
  },
  {
   "cell_type": "markdown",
   "id": "975c1073-7699-4b79-b27b-9d92fc3596bf",
   "metadata": {},
   "source": [
    "These are two important methods you should use when loading data to make sure that I/O does not become blocking.\n",
    "\n",
    ".cache() keeps data in memory after it's loaded off disk. This will ensure the dataset does not become a bottleneck while training your model. If your dataset is too large to fit into memory, you can also use this method to create a performant on-disk cache, which is more efficient to read than many small files.\n",
    "\n",
    ".prefetch() overlaps data preprocessing and model execution while training.\n",
    "\n",
    "You can learn more about both methods, as well as how to cache data to disk in the data performance guide."
   ]
  },
  {
   "cell_type": "code",
   "execution_count": null,
   "id": "e5b44320-ada9-44a0-95f1-7a58285ee8c9",
   "metadata": {},
   "outputs": [],
   "source": [
    "AUTOTUNE = tf.data.AUTOTUNE\n",
    "\n",
    "train_ds = train_ds.cache().prefetch(buffer_size=AUTOTUNE)\n",
    "val_ds = val_ds.cache().prefetch(buffer_size=AUTOTUNE)\n",
    "test_ds = test_ds.cache().prefetch(buffer_size=AUTOTUNE)"
   ]
  },
  {
   "cell_type": "markdown",
   "id": "8599b2a5-c9df-4d8e-b408-c9e1911f9085",
   "metadata": {},
   "source": [
    "### Create the model\n",
    "\n",
    "It's time to create your neural network:"
   ]
  },
  {
   "cell_type": "code",
   "execution_count": null,
   "id": "12280068-1b94-4fd6-aa03-4d60c4bed02b",
   "metadata": {},
   "outputs": [],
   "source": [
    "# Define the embedding dimension size\n",
    "embedding_dim = 16\n",
    "\n",
    "# Build the model using a Sequential API\n",
    "model = tf.keras.Sequential([\n",
    "  # Add an Embedding layer to map input tokens to vectors of size embedding_dim\n",
    "  layers.Embedding(max_features, embedding_dim),\n",
    "  \n",
    "  # Add a Dropout layer to reduce overfitting by randomly setting input units to 0 with a frequency of 20% at each step\n",
    "  layers.Dropout(0.2),\n",
    "  \n",
    "  # Add a GlobalAveragePooling1D layer to reduce the dimensionality of the input\n",
    "  layers.GlobalAveragePooling1D(),\n",
    "  \n",
    "  # Add another Dropout layer to reduce overfitting\n",
    "  layers.Dropout(0.2),\n",
    "  \n",
    "  # Add a Dense layer with a single unit and a sigmoid activation function for binary classification\n",
    "  layers.Dense(1, activation='sigmoid')\n",
    "])\n",
    "\n",
    "# Print the model summary to see the structure and number of parameters\n",
    "model.summary()\n"
   ]
  },
  {
   "cell_type": "code",
   "execution_count": null,
   "id": "82d5ac84-5a99-4316-9f5a-80ee5f41646c",
   "metadata": {},
   "outputs": [],
   "source": [
    ">>\n",
    "Model: \"sequential\"\n",
    "_________________________________________________________________\n",
    " Layer (type)                Output Shape              Param #   \n",
    "=================================================================\n",
    " embedding (Embedding)       (None, None, 16)          160000    \n",
    "                                                                 \n",
    " dropout (Dropout)           (None, None, 16)          0         \n",
    "                                                                 \n",
    " global_average_pooling1d (  (None, 16)                0         \n",
    " GlobalAveragePooling1D)                                         \n",
    "                                                                 \n",
    " dropout_1 (Dropout)         (None, 16)                0         \n",
    "                                                                 \n",
    " dense (Dense)               (None, 1)                 17        \n",
    "                                                                 \n",
    "=================================================================\n",
    "Total params: 160017 (625.07 KB)\n",
    "Trainable params: 160017 (625.07 KB)\n",
    "Non-trainable params: 0 (0.00 Byte)\n",
    "_________________________________________________________________"
   ]
  },
  {
   "cell_type": "markdown",
   "id": "25e02a02-2de9-46af-970c-92b13b525dcc",
   "metadata": {},
   "source": [
    "The layers are stacked sequentially to build the classifier:\n",
    "\n",
    "1. The first layer is an Embedding layer. This layer takes the integer-encoded reviews and looks up an embedding vector for each word-index. These vectors are learned as the model trains. The vectors add a dimension to the output array. The resulting dimensions are: (batch, sequence, embedding). To learn more about embeddings, check out the Word embeddings tutorial.\n",
    "2. Next, a GlobalAveragePooling1D layer returns a fixed-length output vector for each example by averaging over the sequence dimension. This allows the model to handle input of variable length, in the simplest way possible.\n",
    "3. The last layer is densely connected with a single output node.\n",
    "\n",
    "### Loss function and optimizer\n",
    "A model needs a loss function and an optimizer for training. Since this is a binary classification problem and the model outputs a probability (a single-unit layer with a sigmoid activation), you'll use losses.BinaryCrossentropy loss function.\n",
    "\n",
    "We'll compile the model with a loss function and an optimizer."
   ]
  },
  {
   "cell_type": "code",
   "execution_count": null,
   "id": "46d9ba18-0d13-4f00-8a80-3da8e8116c25",
   "metadata": {},
   "outputs": [],
   "source": [
    "# Compile the model with BinaryCrossentropy loss and Adam optimizer\n",
    "model.compile(loss=losses.BinaryCrossentropy(),\n",
    "              optimizer='adam',\n",
    "              metrics=[tf.metrics.BinaryAccuracy(threshold=0.5)])"
   ]
  },
  {
   "cell_type": "markdown",
   "id": "e67ce040-a4e2-461d-9901-1951e37fbf6b",
   "metadata": {},
   "source": [
    "### Train the model\n",
    "\n",
    "You will train the model by passing the dataset object to the fit method."
   ]
  },
  {
   "cell_type": "code",
   "execution_count": null,
   "id": "51963a87-c698-4184-9a23-c366b6fc3f98",
   "metadata": {},
   "outputs": [],
   "source": [
    "# Set the number of epochs for training\n",
    "epochs = 10\n",
    "\n",
    "# Train the model\n",
    "history = model.fit(\n",
    "    train_ds,  # The training dataset\n",
    "    validation_data=val_ds,  # The validation dataset\n",
    "    epochs=epochs  # Number of epochs to train the model\n",
    ")"
   ]
  },
  {
   "cell_type": "code",
   "execution_count": null,
   "id": "f756e00a-ad8e-4763-9c22-17e65586aea0",
   "metadata": {},
   "outputs": [],
   "source": [
    ">>\n",
    "Epoch 1/10\n",
    "625/625 [==============================] - 12s 17ms/step - loss: 0.6660 - binary_accuracy: 0.6908 - val_loss: 0.6178 - val_binary_accuracy: 0.7740\n",
    "Epoch 2/10\n",
    "625/625 [==============================] - 6s 10ms/step - loss: 0.5513 - binary_accuracy: 0.7987 - val_loss: 0.5003 - val_binary_accuracy: 0.8202\n",
    "Epoch 3/10\n",
    "625/625 [==============================] - 5s 8ms/step - loss: 0.4468 - binary_accuracy: 0.8446 - val_loss: 0.4213 - val_binary_accuracy: 0.8464\n",
    "Epoch 4/10\n",
    "625/625 [==============================] - 6s 10ms/step - loss: 0.3800 - binary_accuracy: 0.8655 - val_loss: 0.3746 - val_binary_accuracy: 0.8610\n",
    "Epoch 5/10\n",
    "625/625 [==============================] - 5s 9ms/step - loss: 0.3364 - binary_accuracy: 0.8791 - val_loss: 0.3457 - val_binary_accuracy: 0.8674\n",
    "Epoch 6/10\n",
    "625/625 [==============================] - 7s 11ms/step - loss: 0.3058 - binary_accuracy: 0.8887 - val_loss: 0.3265 - val_binary_accuracy: 0.8716\n",
    "Epoch 7/10\n",
    "625/625 [==============================] - 6s 10ms/step - loss: 0.2832 - binary_accuracy: 0.8954 - val_loss: 0.3130 - val_binary_accuracy: 0.8736\n",
    "Epoch 8/10\n",
    "625/625 [==============================] - 7s 12ms/step - loss: 0.2638 - binary_accuracy: 0.9039 - val_loss: 0.3037 - val_binary_accuracy: 0.8752\n",
    "Epoch 9/10\n",
    "625/625 [==============================] - 6s 10ms/step - loss: 0.2467 - binary_accuracy: 0.9099 - val_loss: 0.2967 - val_binary_accuracy: 0.8758\n",
    "Epoch 10/10\n",
    "625/625 [==============================] - 8s 13ms/step - loss: 0.2324 - binary_accuracy: 0.9168 - val_loss: 0.2921 - val_binary_accuracy: 0.8782"
   ]
  },
  {
   "cell_type": "markdown",
   "id": "14349cda-7a6c-467b-b2bb-dab5da0dc16f",
   "metadata": {},
   "source": [
    "### Evaluate the model\n",
    "\n",
    "Let's see how the model performs. Two values will be returned. Loss (a number which represents our error, lower values are better), and accuracy."
   ]
  },
  {
   "cell_type": "code",
   "execution_count": null,
   "id": "120667fd-8e6f-42f2-a424-d50d87ff0923",
   "metadata": {},
   "outputs": [],
   "source": [
    "loss, accuracy = model.evaluate(test_ds)\n",
    "\n",
    "print(\"Loss: \", loss)\n",
    "print(\"Accuracy: \", accuracy)"
   ]
  },
  {
   "cell_type": "code",
   "execution_count": null,
   "id": "21e31031-d752-4898-ad7e-772e7b102bf5",
   "metadata": {},
   "outputs": [],
   "source": [
    ">>\n",
    "782/782 [==============================] - 4s 5ms/step - loss: 0.3104 - binary_accuracy: 0.8733\n",
    "Loss:  0.31035059690475464\n",
    "Accuracy:  0.8733199834823608"
   ]
  },
  {
   "cell_type": "markdown",
   "id": "13d586a3-7a09-4a2c-99c0-f8dc9306fa43",
   "metadata": {},
   "source": [
    "### Plot Accuracy and Loss over time\n",
    "\n",
    "model.fit() returns a History object that contains a dictionary with everything that happened during training:"
   ]
  },
  {
   "cell_type": "code",
   "execution_count": null,
   "id": "ffceefb3-97d7-47ee-bacc-1df4958c3c25",
   "metadata": {},
   "outputs": [],
   "source": [
    "history_dict = history.history\n",
    "history_dict.keys()"
   ]
  },
  {
   "cell_type": "code",
   "execution_count": null,
   "id": "b76387f4-b2df-4285-b2b1-7d5fac754bb0",
   "metadata": {},
   "outputs": [],
   "source": [
    ">>\n",
    "dict_keys(['loss', 'binary_accuracy', 'val_loss', 'val_binary_accuracy'])"
   ]
  },
  {
   "cell_type": "markdown",
   "id": "797505d5-9972-4f96-be2b-679906e2b6f5",
   "metadata": {},
   "source": [
    "We'll create plots for the training and validation accuracy and loss."
   ]
  },
  {
   "cell_type": "code",
   "execution_count": null,
   "id": "3277cb52-d0ab-496a-9198-7bd61783a048",
   "metadata": {},
   "outputs": [],
   "source": [
    "# Retrieve history of accuracy and loss\n",
    "history_dict = history.history\n",
    "acc = history_dict['binary_accuracy']\n",
    "val_acc = history_dict['val_binary_accuracy']\n",
    "loss = history_dict['loss']\n",
    "val_loss = history_dict['val_loss']\n",
    "\n",
    "epochs = range(1, len(acc) + 1)\n",
    "\n",
    "# Plot training and validation loss\n",
    "plt.plot(epochs, loss, 'bo', label='Training loss')\n",
    "plt.plot(epochs, val_loss, 'b', label='Validation loss')\n",
    "plt.title('Training and validation loss')\n",
    "plt.xlabel('Epochs')\n",
    "plt.ylabel('Loss')\n",
    "plt.legend()\n",
    "\n",
    "plt.show()\n",
    "\n",
    "# Plot training and validation accuracy\n",
    "plt.plot(epochs, acc, 'bo', label='Training acc')\n",
    "plt.plot(epochs, val_acc, 'b', label='Validation acc')\n",
    "plt.title('Training and validation accuracy')\n",
    "plt.xlabel('Epochs')\n",
    "plt.ylabel('Accuracy')\n",
    "plt.legend(loc='lower right')\n",
    "\n",
    "plt.show()"
   ]
  },
  {
   "attachments": {
    "43063a6b-72cb-46d8-b953-ce0fc8ad623b.png": {
     "image/png": "[encoded data removed]"
    }
   },
   "cell_type": "markdown",
   "id": "82d2b168-42ea-4df7-b931-612e92cafe59",
   "metadata": {},
   "source": [
    "![text_plot1.png](attachment:43063a6b-72cb-46d8-b953-ce0fc8ad623b.png)"
   ]
  },
  {
   "attachments": {
    "1cff0cd1-b2d1-4ee5-ba7f-94e417a4d058.png": {
     "image/png": "[encoded data removed]"
    }
   },
   "cell_type": "markdown",
   "id": "1f652027-a0ea-4181-892d-e5cf9f046114",
   "metadata": {},
   "source": [
    "![text_plot2.png](attachment:1cff0cd1-b2d1-4ee5-ba7f-94e417a4d058.png)"
   ]
  },
  {
   "cell_type": "markdown",
   "id": "9f0bea1a-64bb-4439-9f12-89bfb2ab93a8",
   "metadata": {},
   "source": [
    "In this plot, the dots represent the training loss and accuracy, and the solid lines are the validation loss and accuracy.\n",
    "\n",
    "Notice the training loss decreases with each epoch and the training accuracy increases with each epoch. This is expected when using a gradient descent optimization—it should minimize the desired quantity on every iteration.\n",
    "\n",
    "This isn't the case for the validation loss and accuracy—they seem to peak before the training accuracy. This is an example of overfitting: the model performs better on the training data than it does on data it has never seen before. After this point, the model over-optimizes and learns representations specific to the training data that do not generalize to test data.\n",
    "\n",
    "For this particular case, you could prevent overfitting by simply stopping the training when the validation accuracy is no longer increasing. One way to do so is to use the tf.keras.callbacks.EarlyStopping callback."
   ]
  },
  {
   "cell_type": "markdown",
   "id": "986a09ca-320e-4762-bab6-d43ecb03d1c4",
   "metadata": {},
   "source": [
    "## Export the model\n",
    "In the code above, you applied the TextVectorization layer to the dataset before feeding text to the model. If you want to make your model capable of processing raw strings (for example, to simplify deploying it), you can include the TextVectorization layer inside your model. To do so, you can create a new model using the weights you just trained."
   ]
  },
  {
   "cell_type": "code",
   "execution_count": null,
   "id": "fc23aabd-056f-4cb4-b79b-b0a8cee61452",
   "metadata": {},
   "outputs": [],
   "source": [
    "# Create an export model including the TextVectorization layer\n",
    "export_model = tf.keras.Sequential([\n",
    "  vectorize_layer,\n",
    "  model,\n",
    "  layers.Activation('sigmoid')\n",
    "])\n",
    "\n",
    "export_model.compile(\n",
    "    loss=losses.BinaryCrossentropy(from_logits=False), optimizer=\"adam\", metrics=['accuracy']\n",
    ")\n",
    "\n",
    "# Evaluate the export model on the raw test dataset\n",
    "loss, accuracy = export_model.evaluate(raw_test_ds)\n",
    "print(accuracy)"
   ]
  },
  {
   "cell_type": "code",
   "execution_count": null,
   "id": "286a87bc-b82e-41d6-8be4-a0821199cfa2",
   "metadata": {},
   "outputs": [],
   "source": [
    ">>\n",
    "782/782 [==============================] - 8s 10ms/step - loss: 0.5889 - accuracy: 0.5000\n",
    "0.5"
   ]
  },
  {
   "cell_type": "markdown",
   "id": "e9ad7554-1588-42bf-b4a9-3dadb3b7533c",
   "metadata": {},
   "source": [
    "### Inference on new data\n",
    "To get predictions for new examples, you can simply call model.predict()."
   ]
  },
  {
   "cell_type": "code",
   "execution_count": null,
   "id": "4f14d835-768f-424a-b206-185f0e3f603c",
   "metadata": {},
   "outputs": [],
   "source": [
    "# Predict sentiments of new examples\n",
    "examples = tf.constant([\n",
    "  \"The movie was great!\",\n",
    "  \"The movie was okay.\",\n",
    "  \"The movie was terrible...\"\n",
    "])\n",
    "\n",
    "export_model.predict(examples)"
   ]
  },
  {
   "cell_type": "code",
   "execution_count": null,
   "id": "cff2b7e7-a5d5-4995-8196-94d7a3e0d8e1",
   "metadata": {},
   "outputs": [],
   "source": [
    ">>\n",
    "1/1 [==============================] - 1s 526ms/step\n",
    "array([[0.6534078 ],\n",
    "       [0.61201787],\n",
    "       [0.59269434]], dtype=float32)"
   ]
  },
  {
   "cell_type": "markdown",
   "id": "ec173b83-b106-4dd1-aec6-93d8bc9b21e8",
   "metadata": {},
   "source": [
    "Including the text preprocessing logic inside your model enables you to export a model for production that simplifies deployment, and reduces the potential for train/test skew.\n",
    "\n",
    "There is a performance difference to keep in mind when choosing where to apply your TextVectorization layer. Using it outside of your model enables you to do asynchronous CPU processing and buffering of your data when training on GPU. So, if you're training your model on the GPU, you probably want to go with this option to get the best performance while developing your model, then switch to including the TextVectorization layer inside your model when you're ready to prepare for deployment."
   ]
  },
  {
   "cell_type": "markdown",
   "id": "014c93a3-9231-4c1f-8bae-b95b4b3bab7d",
   "metadata": {},
   "source": [
    "## Exercices"
   ]
  },
  {
   "cell_type": "markdown",
   "id": "1701e095-8351-4820-afe3-0a8d809bc53c",
   "metadata": {},
   "source": [
    "### Exercise 1: Adjust Batch Size\n",
    "\n",
    " - Adjust the batch size to 64 and observe how it affects the model's training.\n",
    " - Change the batch size to 128 and observe the effects on training and validation accuracy.\n",
    " - Experiment with a batch size of 16 and compare the training time with the previous configurations."
   ]
  },
  {
   "cell_type": "markdown",
   "id": "4adbd24d-fe96-4374-b1c9-b006f55c8e73",
   "metadata": {},
   "source": [
    "### Exercise 2: Increase Embedding Dimension\n",
    "\n",
    " - Increase the embedding dimension to 32.\n",
    " - Increase the embedding dimension to 64 and observe how it affects the model's performance.\n",
    " - Reduce the embedding dimension to 8 and compare the accuracy and loss with the previous configurations."
   ]
  },
  {
   "cell_type": "markdown",
   "id": "2c06d9cb-12ab-4a26-8d84-dde5fe003925",
   "metadata": {},
   "source": [
    "### Exercise 3: Modify Dropout Rate\n",
    "\n",
    " - Modify the dropout rate to 0.3 in the model.\n",
    " - Change the dropout rate to 0.5 and observe the effects on the model's performance.\n",
    " - Set the dropout rate to 0.1 and compare the validation accuracy with the previous configurations."
   ]
  },
  {
   "cell_type": "markdown",
   "id": "9d65ab42-afc0-442e-b0ad-5e66f49a6bdc",
   "metadata": {},
   "source": [
    "### Exercise 4: Add Another Dense Layer\n",
    "\n",
    " - Add another Dense layer with 16 units and 'relu' activation before the final Dense layer.\n",
    " - Change the number of units in the added Dense layer to 32 and observe the effects on model performance.\n",
    " - Replace the 'relu' activation with 'tanh' and compare the training and validation accuracy."
   ]
  },
  {
   "cell_type": "markdown",
   "id": "f95e8455-e847-4649-8581-cf0371e3eec4",
   "metadata": {},
   "source": [
    "### Exercise 5: Change Optimizer to RMSprop\n",
    "\n",
    " - Change the optimizer from 'adam' to 'RMSprop'.\n",
    " - Experiment with the 'sgd' optimizer and compare the model's performance with 'adam' and 'RMSprop'.\n",
    " - Adjust the learning rate of the 'RMSprop' optimizer to 0.001 and observe the effects on training."
   ]
  },
  {
   "cell_type": "markdown",
   "id": "f719bf3e-2714-468c-aae9-b0743306014a",
   "metadata": {},
   "source": [
    "### Exercise 6: Use EarlyStopping Callback\n",
    "\n",
    " - Implement EarlyStopping to prevent overfitting.\n",
    " - Modify the patience parameter to 5 and observe how it affects the training process.\n",
    " - Change the monitor parameter to 'val_accuracy' and compare the results."
   ]
  },
  {
   "cell_type": "markdown",
   "id": "752b7de8-0f97-4697-a803-71e65e0c6fa7",
   "metadata": {},
   "source": [
    "### Exercise 7: Implement L2 Regularization\n",
    "\n",
    " - Add L2 regularization to the Dense layer.\n",
    " - Change the L2 regularization factor to 0.001 and observe the effects on model performance.\n",
    " - Add L2 regularization to the additional Dense layer from Exercise 5 and compare the results."
   ]
  },
  {
   "cell_type": "markdown",
   "id": "c8b788cd-3324-41cb-a4e2-bf386d692839",
   "metadata": {},
   "source": [
    "### Exercise 8: Implement Text Augmentation\n",
    "\n",
    " - Implement text augmentation to the dataset to improve model generalization.\n",
    " - Experiment with different text augmentation techniques such as synonym replacement or random insertion and observe the effects on model performance.\n",
    " - Compare the results of training the model with and without text augmentation."
   ]
  },
  {
   "cell_type": "markdown",
   "id": "d5b605a5-eaf0-4c45-a44c-c7844cc48b87",
   "metadata": {},
   "source": [
    "### Exercise 9: Implement Batch Normalization\n",
    "\n",
    " - Task: Add batch normalization layers to the model.\n",
    " - Remove one of the Batch Normalization layers and observe how it affects the training and validation accuracy.\n",
    " - Experiment with placing Batch Normalization layers before the Dropout layers and compare the results."
   ]
  },
  {
   "cell_type": "markdown",
   "id": "40390ed8-b4fc-4863-a710-c7f3c990dc97",
   "metadata": {},
   "source": [
    "### Exercise 10 : Implement Bidirectional LSTM\n",
    "\n",
    "- Replace the GlobalAveragePooling1D layer with a Bidirectional LSTM layer.\n",
    "- Experiment with different numbers of LSTM units (e.g., 32, 128) and observe the effects on the model's performance.\n",
    "- Add another Bidirectional LSTM layer and compare the training and validation accuracy."
   ]
  },
  {
   "cell_type": "markdown",
   "id": "fdfdd748-0139-4869-a8bb-779450a5da56",
   "metadata": {},
   "source": [
    "\n"
   ]
  },
  {
   "cell_type": "markdown",
   "id": "06307f73-b589-4305-81dd-6610d85b2e55",
   "metadata": {},
   "source": [
    "\n"
   ]
  }
 ],
 "metadata": {
  "kernelspec": {
   "display_name": "Python 3 (ipykernel)",
   "language": "python",
   "name": "python3"
  },
  "language_info": {
   "codemirror_mode": {
    "name": "ipython",
    "version": 3
   },
   "file_extension": ".py",
   "mimetype": "text/x-python",
   "name": "python",
   "nbconvert_exporter": "python",
   "pygments_lexer": "ipython3",
   "version": "3.11.7"
  }
 },
 "nbformat": 4,
 "nbformat_minor": 5
}
