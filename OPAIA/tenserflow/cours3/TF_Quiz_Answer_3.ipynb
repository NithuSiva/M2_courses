{
 "cells": [
  {
   "cell_type": "markdown",
   "id": "5ade2aa6-bb14-4fa6-96aa-425f4ea0e93d",
   "metadata": {},
   "source": [
    "### Question 1: b\n",
    "\n",
    "### Question 2: c\n",
    "\n",
    "### Question 3: c\n",
    "\n",
    "### Question 4: d\n",
    "\n",
    "### Question 5: a\n",
    "\n",
    "### Question 6: b\n",
    "\n",
    "### Question 7: d\n",
    "\n",
    "### Question 8: d"
   ]
  }
 ],
 "metadata": {
  "kernelspec": {
   "display_name": "Python 3 (ipykernel)",
   "language": "python",
   "name": "python3"
  },
  "language_info": {
   "codemirror_mode": {
    "name": "ipython",
    "version": 3
   },
   "file_extension": ".py",
   "mimetype": "text/x-python",
   "name": "python",
   "nbconvert_exporter": "python",
   "pygments_lexer": "ipython3",
   "version": "3.11.7"
  }
 },
 "nbformat": 4,
 "nbformat_minor": 5
}
