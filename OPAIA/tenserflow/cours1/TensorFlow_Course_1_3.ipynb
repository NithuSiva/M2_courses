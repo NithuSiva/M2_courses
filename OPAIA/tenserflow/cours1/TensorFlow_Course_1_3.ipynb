{
 "cells": [
  {
   "cell_type": "code",
   "execution_count": 5,
   "id": "2713ac3d-10f3-42af-becc-e4f07b2b6dc6",
   "metadata": {},
   "outputs": [],
   "source": [
    "# Based on TensorFlow course : https://www.tensorflow.org/tutorials/customization/basics\n",
    "# Modified by Mehdi Ammi, Univ. Paris 8"
   ]
  },
  {
   "cell_type": "markdown",
   "id": "7bc6ed54-45c1-424b-a56f-af5f82876ef0",
   "metadata": {},
   "source": [
    "# TensorFlow: Tensors and Operations"
   ]
  },
  {
   "cell_type": "markdown",
   "id": "ad7a07a5-5bf2-49f7-9be1-0413fdb5eeac",
   "metadata": {},
   "source": [
    "## Overview\n",
    "\n",
    "This notebook introduces you to the foundational concepts of TensorFlow, including:\n",
    "\n",
    " - Importing necessary libraries.\n",
    " - Creating and manipulating tensors.\n",
    " - Leveraging GPU acceleration for computations.\n",
    " - Building efficient data pipelines using tf.data.Dataset."
   ]
  },
  {
   "cell_type": "markdown",
   "id": "9d658b6f-01a1-4e49-950d-c8c2a53714c1",
   "metadata": {},
   "source": [
    "## Import TensorFlow\n",
    "\n",
    "To get started, import the tensorflow module. As of TensorFlow 2, eager execution is turned on by default. Eager execution enables a more interactive frontend to TensorFlow, which you will later explore in more detail."
   ]
  },
  {
   "cell_type": "code",
   "execution_count": 6,
   "id": "5c1ca0e2-760e-4d39-80ee-d164bfaa5dba",
   "metadata": {},
   "outputs": [],
   "source": [
    "import tensorflow as tf"
   ]
  },
  {
   "cell_type": "markdown",
   "id": "f93f5543-7d2e-4dc7-ae9d-62c5b2c00866",
   "metadata": {},
   "source": [
    "## Working with Tensors\n",
    "\n",
    "A tensor is a multi-dimensional array, similar to NumPy arrays but with additional capabilities. tf.Tensor objects have a specific data type and shape. They can also reside in accelerator memory, such as a GPU. TensorFlow provides a comprehensive set of operations for tensors, such as tf.math.add, tf.linalg.matmul, and tf.linalg.inv, which can handle automatic type conversion for built-in Python types."
   ]
  },
  {
   "cell_type": "code",
   "execution_count": 7,
   "id": "470e05bc-46d6-4be4-833a-5d4f307645f3",
   "metadata": {},
   "outputs": [
    {
     "name": "stdout",
     "output_type": "stream",
     "text": [
      "tf.Tensor(3, shape=(), dtype=int32)\n",
      "tf.Tensor([4 6], shape=(2,), dtype=int32)\n",
      "tf.Tensor(25, shape=(), dtype=int32)\n",
      "tf.Tensor(6, shape=(), dtype=int32)\n",
      "tf.Tensor(13, shape=(), dtype=int32)\n"
     ]
    }
   ],
   "source": [
    "print(tf.math.add(1, 2))\n",
    "print(tf.math.add([1, 2], [3, 4]))\n",
    "print(tf.math.square(5))\n",
    "print(tf.math.reduce_sum([1, 2, 3]))\n",
    "\n",
    "# Operator overloading is also supported\n",
    "print(tf.math.square(2) + tf.math.square(3))"
   ]
  },
  {
   "cell_type": "code",
   "execution_count": 8,
   "id": "661157ff-3fea-400a-b1d3-74eed72e8adc",
   "metadata": {},
   "outputs": [
    {
     "ename": "SyntaxError",
     "evalue": "invalid syntax (2046157380.py, line 2)",
     "output_type": "error",
     "traceback": [
      "\u001b[1;36m  Cell \u001b[1;32mIn[8], line 2\u001b[1;36m\u001b[0m\n\u001b[1;33m    tf.Tensor([4 6], shape=(2,), dtype=int32)\u001b[0m\n\u001b[1;37m                 ^\u001b[0m\n\u001b[1;31mSyntaxError\u001b[0m\u001b[1;31m:\u001b[0m invalid syntax\n"
     ]
    }
   ],
   "source": [
    "tf.Tensor(3, shape=(), dtype=int32)\n",
    "tf.Tensor([4 6], shape=(2,), dtype=int32)\n",
    "tf.Tensor(25, shape=(), dtype=int32)\n",
    "tf.Tensor(6, shape=(), dtype=int32)\n",
    "tf.Tensor(13, shape=(), dtype=int32)"
   ]
  },
  {
   "cell_type": "markdown",
   "id": "ea3f599a-91af-4cc7-b363-34fa680608a6",
   "metadata": {},
   "source": [
    "Every tensor has a shape and a datatype, which can be inspected as shown below:"
   ]
  },
  {
   "cell_type": "code",
   "execution_count": null,
   "id": "57972336-22a4-4d9a-87da-d03ee106ed42",
   "metadata": {},
   "outputs": [],
   "source": [
    "x = tf.linalg.matmul([[1]], [[2, 3]])\n",
    "print(x)\n",
    "print(x.shape)\n",
    "print(x.dtype)"
   ]
  },
  {
   "cell_type": "code",
   "execution_count": null,
   "id": "c9f7b5c1-db8d-44a0-9384-26927450d849",
   "metadata": {},
   "outputs": [],
   "source": [
    "tf.Tensor([[2 3]], shape=(1, 2), dtype=int32)\n",
    "(1, 2)\n",
    "<dtype: 'int32'>"
   ]
  },
  {
   "cell_type": "markdown",
   "id": "11d99958-cfcf-40e7-acc2-71e287c0a31a",
   "metadata": {},
   "source": [
    "Key differences between NumPy arrays and TensorFlow tensors include:\n",
    "\n",
    " - Accelerator Memory: Tensors can be stored in memory of hardware accelerators like GPUs and TPUs, enabling faster computations.\n",
    " - Immutability: Tensors are immutable once created, which helps in ensuring the consistency of data during model training and evaluation.\n",
    "\n",
    "## Interoperability with NumPy\n",
    "TensorFlow integrates seamlessly with NumPy, the fundamental package for scientific computing with Python. Converting between TensorFlow tensors and NumPy arrays is straightforward and efficient:\n",
    "\n",
    " - TensorFlow operations can automatically convert NumPy arrays to tensors, allowing you to leverage TensorFlow's optimized operations on your NumPy data.\n",
    " - Similarly, NumPy operations can convert tensors to NumPy arrays automatically, enabling you to use NumPy's extensive functionality on your TensorFlow data.\n",
    " - You can explicitly convert a tensor to a NumPy array using the .numpy() method, which is particularly useful when you need to perform operations that are only available in NumPy."
   ]
  },
  {
   "cell_type": "code",
   "execution_count": null,
   "id": "ef87e16e-a35a-4230-84c8-80390ff3ce58",
   "metadata": {},
   "outputs": [],
   "source": [
    "import numpy as np\n",
    "\n",
    "ndarray = np.ones([3, 3])\n",
    "\n",
    "print(\"TensorFlow operations convert numpy arrays to Tensors automatically\")\n",
    "tensor = tf.math.multiply(ndarray, 42)\n",
    "print(tensor)\n",
    "\n",
    "\n",
    "print(\"And NumPy operations convert Tensors to NumPy arrays automatically\")\n",
    "print(np.add(tensor, 1))\n",
    "\n",
    "print(\"The .numpy() method explicitly converts a Tensor to a numpy array\")\n",
    "print(tensor.numpy())"
   ]
  },
  {
   "cell_type": "code",
   "execution_count": null,
   "id": "e2c82880-6694-458f-8cea-ff8963eb56d7",
   "metadata": {},
   "outputs": [],
   "source": [
    ">>\n",
    "TensorFlow operations convert numpy arrays to Tensors automatically\n",
    "tf.Tensor(\n",
    "[[42. 42. 42.]\n",
    " [42. 42. 42.]\n",
    " [42. 42. 42.]], shape=(3, 3), dtype=float64)\n",
    "And NumPy operations convert Tensors to NumPy arrays automatically\n",
    "[[43. 43. 43.]\n",
    " [43. 43. 43.]\n",
    " [43. 43. 43.]]\n",
    "The .numpy() method explicitly converts a Tensor to a numpy array\n",
    "[[42. 42. 42.]\n",
    " [42. 42. 42.]\n",
    " [42. 42. 42.]]"
   ]
  },
  {
   "cell_type": "markdown",
   "id": "cf279f32-d917-45be-a28a-fcd9f14f715f",
   "metadata": {},
   "source": [
    "## Utilizing GPU Acceleration\n",
    "\n",
    "TensorFlow is designed to take advantage of hardware accelerators such as GPUs. Many operations in TensorFlow are optimized to use GPUs, providing significant speed improvements, especially for large-scale computations and deep learning models. TensorFlow automatically decides whether to use the GPU or CPU for an operation, transferring tensors between the two as necessary."
   ]
  },
  {
   "cell_type": "code",
   "execution_count": null,
   "id": "7cb6d601-3f30-4275-98b1-1961f54d0bfe",
   "metadata": {},
   "outputs": [],
   "source": [
    "x = tf.random.uniform([3, 3])\n",
    "\n",
    "print(\"Is there a GPU available: \"),\n",
    "print(tf.config.list_physical_devices(\"GPU\"))\n",
    "\n",
    "print(\"Is the Tensor on GPU #0:  \"),\n",
    "print(x.device.endswith('GPU:0'))"
   ]
  },
  {
   "cell_type": "code",
   "execution_count": null,
   "id": "d50a8051-dacb-4459-809a-9624eeb4689d",
   "metadata": {},
   "outputs": [],
   "source": [
    ">>\n",
    "Is there a GPU available: \n",
    "[PhysicalDevice(name='/physical_device:GPU:0', device_type='GPU'), PhysicalDevice(name='/physical_device:GPU:1', device_type='GPU'), PhysicalDevice(name='/physical_device:GPU:2', device_type='GPU'), PhysicalDevice(name='/physical_device:GPU:3', device_type='GPU')]\n",
    "Is the Tensor on GPU #0:  \n",
    "True"
   ]
  },
  {
   "cell_type": "markdown",
   "id": "cac5a0b5-a257-4640-b2d9-13099131a9c2",
   "metadata": {},
   "source": [
    "### Device names\n",
    "The Tensor.device property provides a fully qualified string name of the device hosting the contents of the tensor. This name encodes many details, such as an identifier of the network address of the host on which this program is executing and the device within that host. This is required for distributed execution of a TensorFlow program. The string ends with GPU:< N > if the tensor is placed on the N-th GPU on the host.\n",
    "    \n",
    "    \n",
    "### Explicit device placement\n",
    "In TensorFlow, placement refers to how individual operations are assigned (placed on) a device for execution. As mentioned, when there is no explicit guidance provided, TensorFlow automatically decides which device to execute an operation and copies tensors to that device, if needed.\n",
    "\n",
    "However, TensorFlow operations can be explicitly placed on specific devices using the tf.device context manager. For example:"
   ]
  },
  {
   "cell_type": "code",
   "execution_count": null,
   "id": "779c58d0-9df8-468e-8be5-3566a3d170b4",
   "metadata": {},
   "outputs": [],
   "source": [
    "import time\n",
    "\n",
    "def time_matmul(x):\n",
    "  start = time.time()\n",
    "  for loop in range(10):\n",
    "    tf.linalg.matmul(x, x)\n",
    "\n",
    "  result = time.time()-start\n",
    "\n",
    "  print(\"10 loops: {:0.2f}ms\".format(1000*result))\n",
    "\n",
    "# Force execution on CPU\n",
    "print(\"On CPU:\")\n",
    "with tf.device(\"CPU:0\"):\n",
    "  x = tf.random.uniform([1000, 1000])\n",
    "  assert x.device.endswith(\"CPU:0\")\n",
    "  time_matmul(x)\n",
    "\n",
    "# Force execution on GPU #0 if available\n",
    "if tf.config.list_physical_devices(\"GPU\"):\n",
    "  print(\"On GPU:\")\n",
    "  with tf.device(\"GPU:0\"): # Or GPU:1 for the 2nd GPU, GPU:2 for the 3rd etc.\n",
    "    x = tf.random.uniform([1000, 1000])\n",
    "    assert x.device.endswith(\"GPU:0\")\n",
    "    time_matmul(x)"
   ]
  },
  {
   "cell_type": "code",
   "execution_count": null,
   "id": "b5ab59bf-97be-46b1-9c1f-21403f2892a4",
   "metadata": {},
   "outputs": [],
   "source": [
    ">>\n",
    "On CPU:\n",
    "10 loops: 42.76ms\n",
    "On GPU:\n",
    "10 loops: 300.72ms"
   ]
  },
  {
   "cell_type": "markdown",
   "id": "b99749d4-0a8d-473e-92ca-8aab608becbd",
   "metadata": {},
   "source": [
    "## Building Data Pipelines\n",
    "\n",
    "The tf.data.Dataset API is a powerful tool for building input pipelines to feed data into your machine learning models. It allows you to create complex and highly efficient data processing pipelines. \n",
    "\n",
    "Refer to the tf.data: Build TensorFlow input pipelines guide to learn more.\n",
    "\n",
    "\n",
    "### Create a source Dataset\n",
    "\n",
    "You can create a source dataset from various input sources, such as tensors, files, or by generating data programmatically.\n",
    "\n",
    "Refer to the Reading input data section of the tf.data: Build TensorFlow input pipelines guide for more information."
   ]
  },
  {
   "cell_type": "code",
   "execution_count": null,
   "id": "66fc849a-5c5f-4fb0-a40a-ab98bf22e37e",
   "metadata": {},
   "outputs": [],
   "source": [
    "ds_tensors = tf.data.Dataset.from_tensor_slices([1, 2, 3, 4, 5, 6])\n",
    "\n",
    "# Create a CSV file\n",
    "import tempfile\n",
    "_, filename = tempfile.mkstemp()\n",
    "\n",
    "with open(filename, 'w') as f:\n",
    "  f.write(\"\"\"Line 1\n",
    "Line 2\n",
    "Line 3\n",
    "  \"\"\")\n",
    "\n",
    "ds_file = tf.data.TextLineDataset(filename)"
   ]
  },
  {
   "cell_type": "markdown",
   "id": "6b203697-1f9f-42d3-93e7-0e3a7d622887",
   "metadata": {},
   "source": [
    "### Apply transformations\n",
    "\n",
    "Transformations can be applied to the dataset using methods like map, batch, and shuffle, enabling you to preprocess and organize your data efficiently."
   ]
  },
  {
   "cell_type": "code",
   "execution_count": null,
   "id": "10c5bf45-7da7-4515-9c91-e4f8f488a616",
   "metadata": {},
   "outputs": [],
   "source": [
    "ds_tensors = ds_tensors.map(tf.math.square).shuffle(2).batch(2)\n",
    "\n",
    "ds_file = ds_file.batch(2)"
   ]
  },
  {
   "cell_type": "markdown",
   "id": "0caf839e-9eee-4242-aafb-148c91bbe625",
   "metadata": {},
   "source": [
    "### Apply Iterateration \n",
    "\n",
    "tf.data.Dataset objects support iteration to loop over records:"
   ]
  },
  {
   "cell_type": "code",
   "execution_count": null,
   "id": "94515bc6-159e-4e03-953d-f65ec06056da",
   "metadata": {},
   "outputs": [],
   "source": [
    "print('Elements of ds_tensors:')\n",
    "for x in ds_tensors:\n",
    "  print(x)\n",
    "\n",
    "print('\\nElements in ds_file:')\n",
    "for x in ds_file:\n",
    "  print(x)"
   ]
  },
  {
   "cell_type": "code",
   "execution_count": null,
   "id": "85a0b6a2-35ca-4f66-90ea-7602c3bbc3fd",
   "metadata": {},
   "outputs": [],
   "source": [
    ">> Elements of ds_tensors:\n",
    "tf.Tensor([4 9], shape=(2,), dtype=int32)\n",
    "tf.Tensor([ 1 25], shape=(2,), dtype=int32)\n",
    "tf.Tensor([16 36], shape=(2,), dtype=int32)\n",
    "\n",
    "Elements in ds_file:\n",
    "tf.Tensor([b'Line 1' b'Line 2'], shape=(2,), dtype=string)\n",
    "tf.Tensor([b'Line 3' b'  '], shape=(2,), dtype=string)"
   ]
  }
 ],
 "metadata": {
  "kernelspec": {
   "display_name": "Python 3",
   "language": "python",
   "name": "python3"
  },
  "language_info": {
   "codemirror_mode": {
    "name": "ipython",
    "version": 3
   },
   "file_extension": ".py",
   "mimetype": "text/x-python",
   "name": "python",
   "nbconvert_exporter": "python",
   "pygments_lexer": "ipython3",
   "version": "3.9.0"
  }
 },
 "nbformat": 4,
 "nbformat_minor": 5
}
