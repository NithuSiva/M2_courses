{
 "cells": [
  {
   "cell_type": "markdown",
   "metadata": {},
   "source": [
    "AI Programming"
   ]
  },
  {
   "cell_type": "code",
   "execution_count": 2,
   "metadata": {},
   "outputs": [
    {
     "data": {
      "text/plain": [
       "'1.26.1'"
      ]
     },
     "execution_count": 2,
     "metadata": {},
     "output_type": "execute_result"
    }
   ],
   "source": [
    "import numpy as np\n",
    "np.__version__\n"
   ]
  },
  {
   "cell_type": "markdown",
   "metadata": {},
   "source": [
    "# Exercise 1: Creating and Manipulating NumPy Arrays\n",
    "\n",
    "\n",
    "* Create a 1D NumPy array from the list [5, 10, 15, 20, 25]. Convert the array to type float64 and print it."
   ]
  },
  {
   "cell_type": "code",
   "execution_count": 3,
   "metadata": {},
   "outputs": [
    {
     "data": {
      "text/plain": [
       "array([ 5., 10., 15., 20., 25.])"
      ]
     },
     "execution_count": 3,
     "metadata": {},
     "output_type": "execute_result"
    }
   ],
   "source": [
    "l = [5, 10, 15, 20, 25]\n",
    "\n",
    "v = np.array(l, dtype=np.float64)\n",
    "\n",
    "v"
   ]
  },
  {
   "cell_type": "markdown",
   "metadata": {},
   "source": [
    "\n",
    "* Create a 2D NumPy array from the nested list [[1, 2, 3], [4, 5, 6], [7, 8, 9]]. Print the shape and size of the array."
   ]
  },
  {
   "cell_type": "code",
   "execution_count": 4,
   "metadata": {},
   "outputs": [
    {
     "name": "stdout",
     "output_type": "stream",
     "text": [
      "shape :  (3, 3) \n",
      "len :  9\n"
     ]
    }
   ],
   "source": [
    "l = [[1, 2, 3], [4, 5, 6], [7, 8, 9]]\n",
    "\n",
    "v = np.array(l, dtype=np.float64)\n",
    "\n",
    "print(\"shape : \" , v.shape, \"\\nlen : \", v.size)\n"
   ]
  },
  {
   "cell_type": "markdown",
   "metadata": {},
   "source": [
    "* Create a 3D NumPy array with random values of shape (2, 3, 4). Print the number of dimensions and the shape of the array."
   ]
  },
  {
   "cell_type": "code",
   "execution_count": 5,
   "metadata": {},
   "outputs": [
    {
     "name": "stdout",
     "output_type": "stream",
     "text": [
      "N dimensions :  1 , shape :  (24,)\n"
     ]
    }
   ],
   "source": [
    "l = np.random.randn(2 * 3 * 4)\n",
    "\n",
    "print(\"N dimensions : \", l.ndim, \", shape : \", l.shape)"
   ]
  },
  {
   "cell_type": "markdown",
   "metadata": {},
   "source": [
    "# Exercise 3: Advanced Array Manipulations\n",
    "\n",
    "* Create a 1D NumPy array with the numbers from 0 to 9. Reverse the array and print it."
   ]
  },
  {
   "cell_type": "code",
   "execution_count": 6,
   "metadata": {},
   "outputs": [
    {
     "data": {
      "text/plain": [
       "array([9, 8, 7, 6, 5, 4, 3, 2, 1, 0])"
      ]
     },
     "execution_count": 6,
     "metadata": {},
     "output_type": "execute_result"
    }
   ],
   "source": [
    "l = np.arange(0, 10)\n",
    "v = np.flip(l)\n",
    "\n",
    "v"
   ]
  },
  {
   "cell_type": "markdown",
   "metadata": {},
   "source": [
    "* Create a 2D NumPy array with the numbers from 0 to 11, arranged in a 3x4 shape. Extract a subarray consisting of the first two rows and the last two columns, and print it."
   ]
  },
  {
   "cell_type": "code",
   "execution_count": 7,
   "metadata": {},
   "outputs": [
    {
     "data": {
      "text/plain": [
       "array([[2, 3],\n",
       "       [6, 7]])"
      ]
     },
     "execution_count": 7,
     "metadata": {},
     "output_type": "execute_result"
    }
   ],
   "source": [
    "l = np.arange(0, 12).reshape(3,4)\n",
    "rows, col = l.shape\n",
    "# print(l)\n",
    "\n",
    "new_l = l[0:2] \n",
    "new_l[:, [rows-1, rows]]"
   ]
  },
  {
   "cell_type": "markdown",
   "metadata": {},
   "source": [
    "* Create a 2D NumPy array of shape (5, 5) with random integers between 0 and 10. Replace all elements greater than 5 with 0 and print the modified array."
   ]
  },
  {
   "cell_type": "code",
   "execution_count": 8,
   "metadata": {},
   "outputs": [
    {
     "data": {
      "text/plain": [
       "array([[4, 3, 0, 4, 4],\n",
       "       [0, 0, 0, 0, 4],\n",
       "       [0, 3, 5, 0, 0],\n",
       "       [2, 3, 0, 5, 4],\n",
       "       [0, 0, 0, 1, 0]])"
      ]
     },
     "execution_count": 8,
     "metadata": {},
     "output_type": "execute_result"
    }
   ],
   "source": [
    "l =  np.random.randint(0, 11, size=(5,5))\n",
    "\n",
    "l[l > 5] = 0\n",
    "\n",
    "l"
   ]
  },
  {
   "cell_type": "markdown",
   "metadata": {},
   "source": [
    "# Exercise 4: Array Initialization and Attributes\n",
    "* Create a 3x3 identity matrix using NumPy and print its attributes: ndim, shape, size, itemsize, and nbytes."
   ]
  },
  {
   "cell_type": "code",
   "execution_count": 9,
   "metadata": {},
   "outputs": [
    {
     "name": "stdout",
     "output_type": "stream",
     "text": [
      "n dimensions : 2 \n",
      "shape:  (3, 3) \n",
      "itemsize :  8 \n",
      "n bytes :  72\n"
     ]
    }
   ],
   "source": [
    "i = np.identity(3)\n",
    "\n",
    "print(\"n dimensions :\", i.ndim, \"\\nshape: \", i.shape, \"\\nitemsize : \", i.itemsize, \"\\nn bytes : \", i.nbytes)"
   ]
  },
  {
   "cell_type": "markdown",
   "metadata": {},
   "source": [
    "* Create an array of 10 evenly spaced numbers between 0 and 5 using numpy.linspace(). Print the array and its datatype."
   ]
  },
  {
   "cell_type": "code",
   "execution_count": 10,
   "metadata": {},
   "outputs": [
    {
     "name": "stdout",
     "output_type": "stream",
     "text": [
      "array :\n",
      " [0.         0.55555556 1.11111111 1.66666667 2.22222222 2.77777778\n",
      " 3.33333333 3.88888889 4.44444444 5.        ]\n",
      "datatype :  float64\n"
     ]
    }
   ],
   "source": [
    "l = np.linspace( 0, 5, 10)\n",
    "\n",
    "print(\"array :\\n\", l)\n",
    "print(\"datatype : \", l.dtype)"
   ]
  },
  {
   "cell_type": "markdown",
   "metadata": {},
   "source": [
    "* Create a 3D array of shape (2, 3, 4) with random values from a standard normal distribution. Print the array and the sum of all elements.\n"
   ]
  },
  {
   "cell_type": "code",
   "execution_count": 11,
   "metadata": {},
   "outputs": [
    {
     "name": "stdout",
     "output_type": "stream",
     "text": [
      "array :\n",
      " [[[-0.99571929 -0.86083863 -0.26244437  0.23796071]\n",
      "  [-0.54704068 -0.52617981  0.6701578  -0.87754796]\n",
      "  [ 0.6827339  -0.33024673  0.4068885   0.35347918]]\n",
      "\n",
      " [[-1.526223    0.03659919  0.68503434  1.27110299]\n",
      "  [-0.10173562  1.67385709 -0.44425605 -0.89295768]\n",
      "  [ 0.74824966  0.93722739 -0.01809635  1.24561899]]]\n",
      "Sum of all elements: 1.565623579637081\n"
     ]
    }
   ],
   "source": [
    "l = np.random.randn(2, 3, 4)\n",
    "\n",
    "print(\"array :\\n\", l)\n",
    "\n",
    "l_sum = np.sum(l)\n",
    "print(\"Sum of all elements:\", l_sum)"
   ]
  },
  {
   "cell_type": "markdown",
   "metadata": {},
   "source": [
    "# Exercise 5: Fancy Indexing and Masking\n",
    "* Create a 1D NumPy array with random integers between 0 and 50 of size 20. Use fancy indexing to extract elements at indices [2, 5, 7, 10, 15] and print them."
   ]
  },
  {
   "cell_type": "code",
   "execution_count": 12,
   "metadata": {},
   "outputs": [
    {
     "name": "stdout",
     "output_type": "stream",
     "text": [
      "Extracted elements:  [46  7 43 13 16]\n"
     ]
    }
   ],
   "source": [
    "l = np.random.randint(0, 50, size=20)\n",
    "\n",
    "indices = [2, 5, 7, 10, 15]\n",
    "\n",
    "print(\"Extracted elements: \", l[indices])"
   ]
  },
  {
   "cell_type": "markdown",
   "metadata": {},
   "source": [
    "* Create a 2D NumPy array with random integers between 0 and 30 of shape (4, 5). Use a boolean mask to select all elements greater than 15 and print them.\n"
   ]
  },
  {
   "cell_type": "code",
   "execution_count": 13,
   "metadata": {},
   "outputs": [
    {
     "data": {
      "text/plain": [
       "array([16, 27, 19, 21, 26, 17, 21])"
      ]
     },
     "execution_count": 13,
     "metadata": {},
     "output_type": "execute_result"
    }
   ],
   "source": [
    "l = np.random.randint(0, 30, size=(4,5))\n",
    "\n",
    "l[l > 15]"
   ]
  },
  {
   "cell_type": "markdown",
   "metadata": {},
   "source": [
    "* Create a 1D NumPy array of 10 random integers between -10 and 10. Use a boolean mask to set all negative values to zero and print the modified array."
   ]
  },
  {
   "cell_type": "code",
   "execution_count": 14,
   "metadata": {},
   "outputs": [
    {
     "data": {
      "text/plain": [
       "array([0, 0, 1, 0, 0, 1, 0, 0, 2, 5])"
      ]
     },
     "execution_count": 14,
     "metadata": {},
     "output_type": "execute_result"
    }
   ],
   "source": [
    "l = np.random.randint(-10, 10, size=10)\n",
    "\n",
    "l[l < 0] = 0\n",
    "\n",
    "l"
   ]
  },
  {
   "cell_type": "markdown",
   "metadata": {},
   "source": [
    "# Exercise 7: Combining and Splitting Arrays\n",
    "* Create two 1D NumPy arrays of length 5 with random integers between 0 and 10. Concatenate the two arrays and print the result."
   ]
  },
  {
   "cell_type": "code",
   "execution_count": 15,
   "metadata": {},
   "outputs": [
    {
     "data": {
      "text/plain": [
       "array([3, 4, 0, 2, 0, 4, 1, 2, 0, 2])"
      ]
     },
     "execution_count": 15,
     "metadata": {},
     "output_type": "execute_result"
    }
   ],
   "source": [
    "la = np.random.randint(0, 5, size=5)\n",
    "lb= np.random.randint(0, 5, size=5)\n",
    "\n",
    "new_l = np.concatenate((la, lb))\n",
    "\n",
    "new_l"
   ]
  },
  {
   "cell_type": "markdown",
   "metadata": {},
   "source": [
    "* Create a 2D NumPy array of shape (6, 4) with random integers between 0 and 10. Split the array into two equal parts along the row axis and print them."
   ]
  },
  {
   "cell_type": "code",
   "execution_count": 16,
   "metadata": {},
   "outputs": [
    {
     "data": {
      "text/plain": [
       "[array([[2, 4, 4, 6],\n",
       "        [5, 5, 1, 6],\n",
       "        [7, 6, 7, 9]]),\n",
       " array([[4, 6, 5, 6],\n",
       "        [9, 1, 3, 1],\n",
       "        [0, 2, 2, 9]])]"
      ]
     },
     "execution_count": 16,
     "metadata": {},
     "output_type": "execute_result"
    }
   ],
   "source": [
    "l = np.random.randint(0, 10, size=(6,4))\n",
    "\n",
    "np.split(l, 2, axis=0)"
   ]
  },
  {
   "cell_type": "markdown",
   "metadata": {},
   "source": [
    "* Create a 2D NumPy array of shape (3, 6) with random integers between 0 and 10. Split the array into three equal parts along the column axis and print them."
   ]
  },
  {
   "cell_type": "code",
   "execution_count": 17,
   "metadata": {},
   "outputs": [
    {
     "data": {
      "text/plain": [
       "[array([[4, 6],\n",
       "        [6, 1],\n",
       "        [6, 4]]),\n",
       " array([[7, 2],\n",
       "        [8, 1],\n",
       "        [1, 5]]),\n",
       " array([[2, 6],\n",
       "        [1, 4],\n",
       "        [6, 6]])]"
      ]
     },
     "execution_count": 17,
     "metadata": {},
     "output_type": "execute_result"
    }
   ],
   "source": [
    "l = np.random.randint(0, 10, size=(3,6))\n",
    "\n",
    "np.hsplit(l, 3)"
   ]
  },
  {
   "cell_type": "markdown",
   "metadata": {},
   "source": [
    "# Exercise 8: Mathematical Functions and Aggregations\n",
    "* Create a 1D NumPy array with random integers between 1 and 100 of size 15. Compute and print the mean, median, standard deviation, and variance of the array."
   ]
  },
  {
   "cell_type": "code",
   "execution_count": 18,
   "metadata": {},
   "outputs": [
    {
     "name": "stdout",
     "output_type": "stream",
     "text": [
      "array :\n",
      " [ 4 49  8 75 67 56 99 59 44 68 30 12  3 45  4]\n",
      "mean: 41.53333333333333\n",
      "median: 45.0\n",
      "standard deviation: 29.202435210478974\n",
      "variance: 852.7822222222222\n"
     ]
    }
   ],
   "source": [
    "l = np.random.randint(1, 100, size=15)\n",
    "\n",
    "mean = np.mean(l)\n",
    "median = np.median(l)\n",
    "std_dev = np.std(l)\n",
    "variance = np.var(l)\n",
    "\n",
    "print(\"array :\\n\", l)\n",
    "print(\"mean:\", mean)\n",
    "print(\"median:\", median)\n",
    "print(\"standard deviation:\", std_dev)\n",
    "print(\"variance:\", variance)"
   ]
  },
  {
   "cell_type": "markdown",
   "metadata": {},
   "source": [
    "* Create a 2D NumPy array of shape (4, 4) with random integers between 1 and 50. Compute and print the sum of each row and each column."
   ]
  },
  {
   "cell_type": "code",
   "execution_count": 19,
   "metadata": {},
   "outputs": [
    {
     "name": "stdout",
     "output_type": "stream",
     "text": [
      "sum row  [ 84  61 108  91]\n",
      "sum col  [ 87  90 103  64]\n"
     ]
    }
   ],
   "source": [
    "l = np.random.randint(1, 50, size=(4,4))\n",
    "\n",
    "sum_row = np.sum(l, axis=1)\n",
    "\n",
    "sum_col = np.sum(l, axis=0)\n",
    "print(\"sum row \", sum_row)\n",
    "print(\"sum col \", sum_col)\n"
   ]
  },
  {
   "cell_type": "markdown",
   "metadata": {},
   "source": [
    "* Create a 3D NumPy array of shape (2, 3, 4) with random integers between 1 and 20. Find the maximum and minimum values along each axis and print them."
   ]
  },
  {
   "cell_type": "code",
   "execution_count": 20,
   "metadata": {},
   "outputs": [
    {
     "name": "stdout",
     "output_type": "stream",
     "text": [
      "[[ 5 12 12 12]\n",
      " [14 11 12  6]\n",
      " [13 15 11 13]]\n",
      "[[ 5  8  7 11]\n",
      " [ 1 12 19  3]\n",
      " [ 9 10 12  2]]\n",
      "axe 0 min :  [[ 5  8  7 11]\n",
      " [ 1 11 12  3]\n",
      " [ 9 10 11  2]]\n"
     ]
    }
   ],
   "source": [
    "l = np.random.randint(1, 21, size=(2, 3, 4))\n",
    "\n",
    "for x in l:\n",
    "    print(x)\n",
    "\n",
    "print(\"axe 0 min : \", np.min(l, axis = 0))\n"
   ]
  },
  {
   "cell_type": "markdown",
   "metadata": {},
   "source": [
    "# Exercise 9: Reshaping and Transposing Arrays\n",
    "* Create a 1D NumPy array with the numbers from 1 to 12. Reshape the array to a 2D array of shape (3, 4) and print it."
   ]
  },
  {
   "cell_type": "code",
   "execution_count": 21,
   "metadata": {},
   "outputs": [
    {
     "data": {
      "text/plain": [
       "array([[ 1,  2,  3,  4],\n",
       "       [ 5,  6,  7,  8],\n",
       "       [ 9, 10, 11, 12]])"
      ]
     },
     "execution_count": 21,
     "metadata": {},
     "output_type": "execute_result"
    }
   ],
   "source": [
    "l = np.arange(1,13)\n",
    "l = l.reshape((3,4))\n",
    "l\n"
   ]
  },
  {
   "cell_type": "markdown",
   "metadata": {},
   "source": [
    "* Create a 2D NumPy array of shape (3, 4) with random integers between 1 and 10. Transpose the array and print the transposed array."
   ]
  },
  {
   "cell_type": "code",
   "execution_count": 22,
   "metadata": {},
   "outputs": [
    {
     "name": "stdout",
     "output_type": "stream",
     "text": [
      "[[ 5  2 10]\n",
      " [ 2  4  2]\n",
      " [ 3  3  7]\n",
      " [ 1  5  6]]\n"
     ]
    }
   ],
   "source": [
    "l = np.random.randint(1, 11, size=(3,4))\n",
    "\n",
    "print(np.transpose(l))"
   ]
  },
  {
   "cell_type": "markdown",
   "metadata": {},
   "source": [
    "* Create a 2D NumPy array of shape (2, 3) with random integers between 1 and 10. Flatten the array to 1D and print the result."
   ]
  },
  {
   "cell_type": "code",
   "execution_count": 23,
   "metadata": {},
   "outputs": [
    {
     "name": "stdout",
     "output_type": "stream",
     "text": [
      "[ 5  4  7  1  2 10]\n"
     ]
    }
   ],
   "source": [
    "l = np.random.randint(1, 11, size=(2,3))\n",
    "\n",
    "print(l.flatten())\n"
   ]
  },
  {
   "cell_type": "markdown",
   "metadata": {},
   "source": [
    "# Exercise 10: Broadcasting and Vectorized Operations\n",
    "* Create a 2D NumPy array of shape (3, 4) with random integers between 1 and 10. Subtract the mean of each column from the respective column elements and print the result."
   ]
  },
  {
   "cell_type": "code",
   "execution_count": 24,
   "metadata": {},
   "outputs": [
    {
     "name": "stdout",
     "output_type": "stream",
     "text": [
      "[[ 2.         -4.33333333 -0.66666667 -0.66666667]\n",
      " [-4.          2.66666667 -2.66666667 -0.66666667]\n",
      " [ 2.          1.66666667  3.33333333  1.33333333]]\n"
     ]
    }
   ],
   "source": [
    "l = np.random.randint(1, 11, size=(3,4))\n",
    "\n",
    "column_means = np.mean(l, axis=0)\n",
    "\n",
    "r = l - column_means\n",
    "print(r)\n"
   ]
  },
  {
   "cell_type": "markdown",
   "metadata": {},
   "source": [
    "* Create two 1D NumPy arrays of length 4 with random integers between 1 and 5. Use broadcasting to compute and print the outer product of the two arrays."
   ]
  },
  {
   "cell_type": "code",
   "execution_count": 25,
   "metadata": {},
   "outputs": [
    {
     "name": "stdout",
     "output_type": "stream",
     "text": [
      "Array 1: [5 1 5 3]\n",
      "Array 2: [2 3 2 3]\n"
     ]
    },
    {
     "data": {
      "text/plain": [
       "array([[10, 15, 10, 15],\n",
       "       [ 2,  3,  2,  3],\n",
       "       [10, 15, 10, 15],\n",
       "       [ 6,  9,  6,  9]])"
      ]
     },
     "execution_count": 25,
     "metadata": {},
     "output_type": "execute_result"
    }
   ],
   "source": [
    "l = np.random.randint(1, 6, size=4)\n",
    "l2 = np.random.randint(1, 6, size=4)\n",
    "\n",
    "\n",
    "print(\"Array 1:\", l)\n",
    "print(\"Array 2:\", l2)\n",
    "np.outer(l, l2)"
   ]
  },
  {
   "cell_type": "markdown",
   "metadata": {},
   "source": [
    "* Create a 2D NumPy array of shape (4, 5) with random integers between 1 and 10. Add 10 to all elements of the array that are greater than 5 and print the modified array."
   ]
  },
  {
   "cell_type": "code",
   "execution_count": 26,
   "metadata": {},
   "outputs": [
    {
     "name": "stdout",
     "output_type": "stream",
     "text": [
      "[[ 8  3  6  2 10]\n",
      " [ 7 10 10  4  5]\n",
      " [ 6  8  6  8  8]\n",
      " [10  4  4  9  9]]\n",
      "[[10  3 10  2 10]\n",
      " [10 10 10  4  5]\n",
      " [10 10 10 10 10]\n",
      " [10  4  4 10 10]]\n"
     ]
    }
   ],
   "source": [
    "l = np.random.randint(1,11,size=(4,5))\n",
    "print(l)\n",
    "l[l>5] = 10\n",
    "print(l)\n"
   ]
  },
  {
   "cell_type": "markdown",
   "metadata": {},
   "source": [
    "# Exercise 11: Sorting and Searching Arrays\n",
    "* Create a 1D NumPy array with random integers between 1 and 20 of size 10. Sort the array in ascending order and print the sorted array."
   ]
  },
  {
   "cell_type": "code",
   "execution_count": 27,
   "metadata": {},
   "outputs": [
    {
     "name": "stdout",
     "output_type": "stream",
     "text": [
      "[4 9 6 3 2 6 3 1 5 5]\n",
      "[1 2 3 3 4 5 5 6 6 9]\n"
     ]
    }
   ],
   "source": [
    "l = np.random.randint(1,11,size=10)\n",
    "\n",
    "print(l)\n",
    "\n",
    "print(np.sort(l))"
   ]
  },
  {
   "cell_type": "markdown",
   "metadata": {},
   "source": [
    "* Create a 2D NumPy array of shape (3, 5) with random integers between 1 and 50. Sort the array by the second column and print the result."
   ]
  },
  {
   "cell_type": "code",
   "execution_count": 28,
   "metadata": {},
   "outputs": [
    {
     "name": "stdout",
     "output_type": "stream",
     "text": [
      "[[45 38 27 13 16]\n",
      " [15 38 49 42 45]\n",
      " [35 10 45 21  4]]\n",
      "[[35 10 45 21  4]\n",
      " [45 38 27 13 16]\n",
      " [15 38 49 42 45]]\n"
     ]
    }
   ],
   "source": [
    "l = np.random.randint(1, 51, size=(3,5))\n",
    "\n",
    "print(l)\n",
    "print(l[l[:, 1].argsort()])\n"
   ]
  },
  {
   "cell_type": "markdown",
   "metadata": {},
   "source": [
    "* Create a 1D NumPy array with random integers between 1 and 100 of size 15. Find and print the indices of all elements greater than 50."
   ]
  },
  {
   "cell_type": "code",
   "execution_count": 29,
   "metadata": {},
   "outputs": [
    {
     "name": "stdout",
     "output_type": "stream",
     "text": [
      "[90 37 18 32 85 74 52 95 60 54  6 79 34 67 34]\n",
      "[90 85 74 52 95 60 54 79 67]\n"
     ]
    }
   ],
   "source": [
    "l = np.random.randint(1, 101, size=15)\n",
    "print(l)\n",
    "print(l[l > 50])"
   ]
  },
  {
   "cell_type": "markdown",
   "metadata": {},
   "source": [
    "# Exercise 12: Linear Algebra with NumPy\n",
    "* Create a 2D NumPy array of shape (2, 2) with random integers between 1 and 10. Compute and print the determinant of the array."
   ]
  },
  {
   "cell_type": "markdown",
   "metadata": {},
   "source": []
  },
  {
   "cell_type": "code",
   "execution_count": 30,
   "metadata": {},
   "outputs": [
    {
     "name": "stdout",
     "output_type": "stream",
     "text": [
      "[[4 9]\n",
      " [9 3]]\n",
      "-69.00000000000001\n"
     ]
    }
   ],
   "source": [
    "l = np.random.randint(1, 11, size=(2,2))\n",
    "\n",
    "print(l)\n",
    "print(np.linalg.det(l))\n"
   ]
  },
  {
   "cell_type": "markdown",
   "metadata": {},
   "source": [
    "* Create a 2D NumPy array of shape (3, 3) with random integers between 1 and 5. Compute and print the eigenvalues and eigenvectors of the array."
   ]
  },
  {
   "cell_type": "code",
   "execution_count": 31,
   "metadata": {},
   "outputs": [
    {
     "name": "stdout",
     "output_type": "stream",
     "text": [
      "[[2 3 3]\n",
      " [5 5 3]\n",
      " [1 4 3]]\n",
      "[10.0490278+0.j         -0.0245139+1.22150758j -0.0245139-1.22150758j]\n",
      "[[ 0.45855542+0.j          0.03985454-0.44023884j  0.03985454+0.44023884j]\n",
      " [ 0.74340686+0.j         -0.51323991+0.31331743j -0.51323991-0.31331743j]\n",
      " [ 0.48690159+0.j          0.66559625+0.j          0.66559625-0.j        ]]\n"
     ]
    }
   ],
   "source": [
    "l = np.random.randint(1, 6, size=(3, 3))\n",
    "print(l)\n",
    "eigenvalues, eigenvectors = np.linalg.eig(l)\n",
    "print(eigenvalues)\n",
    "print(eigenvectors)"
   ]
  },
  {
   "cell_type": "markdown",
   "metadata": {},
   "source": [
    "* Create two 2D NumPy arrays of shape (2, 3) and (3, 2) with random integers between 1 and 10. Compute and print the matrix product of the two arrays."
   ]
  },
  {
   "cell_type": "code",
   "execution_count": 32,
   "metadata": {},
   "outputs": [
    {
     "name": "stdout",
     "output_type": "stream",
     "text": [
      "[[1 4 8]\n",
      " [2 3 4]]\n",
      "[[8 7]\n",
      " [1 5]\n",
      " [4 2]]\n",
      "matrix product :  [[44 43]\n",
      " [35 37]]\n"
     ]
    }
   ],
   "source": [
    "l = np.random.randint(1, 10, size=(2,3))\n",
    "l2 = np.random.randint(1, 10, size=(3,2))\n",
    "\n",
    "print(l)\n",
    "print(l2)\n",
    "\n",
    "print(\"matrix product : \", np.matmul(l, l2))\n",
    "\n"
   ]
  },
  {
   "cell_type": "markdown",
   "metadata": {},
   "source": [
    "# Exercise 13: Random Sampling and Distributions\n",
    "* Create a 1D NumPy array of 10 random samples from a uniform distribution over [0, 1) and print the array."
   ]
  },
  {
   "cell_type": "code",
   "execution_count": 33,
   "metadata": {},
   "outputs": [
    {
     "data": {
      "text/plain": [
       "array([0.10637183, 0.34133849, 0.30994591, 0.65838418, 0.31891343,\n",
       "       0.08305577, 0.86663386, 0.75415927, 0.50359507, 0.57587669])"
      ]
     },
     "execution_count": 33,
     "metadata": {},
     "output_type": "execute_result"
    }
   ],
   "source": [
    "l = np.random.uniform(0, 1, 10)\n",
    "\n",
    "l"
   ]
  },
  {
   "cell_type": "markdown",
   "metadata": {},
   "source": [
    "* Create a 2D NumPy array of shape (3, 3) with random samples from a normal distribution with mean 0 and standard deviation 1. Print the array."
   ]
  },
  {
   "cell_type": "code",
   "execution_count": 34,
   "metadata": {},
   "outputs": [
    {
     "data": {
      "text/plain": [
       "array([[-0.31316488, -0.1599846 , -0.39200663],\n",
       "       [ 0.06647927, -0.22291137,  0.52689701],\n",
       "       [-0.30686485, -0.28810024,  0.83849854]])"
      ]
     },
     "execution_count": 34,
     "metadata": {},
     "output_type": "execute_result"
    }
   ],
   "source": [
    "l = np.random.normal(0, 1, (3, 3))\n",
    "\n",
    "l"
   ]
  },
  {
   "cell_type": "markdown",
   "metadata": {},
   "source": [
    "* Create a 1D NumPy array of 20 random integers between 1 and 100. Compute and print the histogram of the array with 5 bins."
   ]
  },
  {
   "cell_type": "code",
   "execution_count": 35,
   "metadata": {},
   "outputs": [
    {
     "name": "stdout",
     "output_type": "stream",
     "text": [
      "[31 39 31 93 59 19 82 30 42 19 87 78 98 37 45 76 76 37 70  8]\n",
      "Histogram: [3 7 2 4 4]\n",
      "Bin : [ 8. 26. 44. 62. 80. 98.]\n"
     ]
    }
   ],
   "source": [
    "l = np.random.randint(1, 101, 20)\n",
    "\n",
    "hist, bins = np.histogram(l, bins=5)\n",
    "\n",
    "print(l)\n",
    "print(\"Histogram:\", hist)\n",
    "print(\"Bin :\", bins)"
   ]
  },
  {
   "cell_type": "markdown",
   "metadata": {},
   "source": [
    "# Exercise 14: Advanced Indexing and Selection\n",
    "* Create a 2D NumPy array of shape (5, 5) with random integers between 1 and 20. Select and print the diagonal elements of the array."
   ]
  },
  {
   "cell_type": "code",
   "execution_count": 36,
   "metadata": {},
   "outputs": [
    {
     "name": "stdout",
     "output_type": "stream",
     "text": [
      "[[ 9  9  5 13 16]\n",
      " [ 9 18 18 11  4]\n",
      " [ 7 16  7 12  7]\n",
      " [ 7  3 11  3  8]\n",
      " [11 12  2 11 12]]\n",
      "diag : [ 9 18  7  3 12]\n"
     ]
    }
   ],
   "source": [
    "l = np.random.randint(1, 21, (5, 5))\n",
    "\n",
    "diag = np.diagonal(l)\n",
    "\n",
    "print(l)\n",
    "print(\"diag :\", diag)"
   ]
  },
  {
   "cell_type": "markdown",
   "metadata": {},
   "source": [
    "* Create a 1D NumPy array of 10 random integers between 1 and 50. Use advanced indexing to select and print all elements that are prime numbers."
   ]
  },
  {
   "cell_type": "code",
   "execution_count": 37,
   "metadata": {},
   "outputs": [
    {
     "name": "stdout",
     "output_type": "stream",
     "text": [
      "[41  2  6 28  5 18  4 15 15 21]\n",
      "Prime numbers: [41  2  5]\n"
     ]
    }
   ],
   "source": [
    "l = np.random.randint(1, 51, size=10)\n",
    "print(l)\n",
    "\n",
    "def is_prime(num):\n",
    "    if num < 2:\n",
    "        return False\n",
    "    for i in range(2, int(np.sqrt(num)) + 1):\n",
    "        if num % i == 0:\n",
    "            return False\n",
    "    return True\n",
    "\n",
    "prime_numbers = l[np.vectorize(is_prime)(l)]\n",
    "print(\"Prime numbers:\", prime_numbers)"
   ]
  },
  {
   "cell_type": "markdown",
   "metadata": {},
   "source": [
    "* Create a 2D NumPy array of shape (4, 4) with random integers between 1 and 10. Select and print all elements that are even numbers.\n",
    "\n"
   ]
  },
  {
   "cell_type": "code",
   "execution_count": 38,
   "metadata": {},
   "outputs": [
    {
     "name": "stdout",
     "output_type": "stream",
     "text": [
      "[[ 4  1  7  6]\n",
      " [ 5  7 10  1]\n",
      " [ 5  4  3  4]\n",
      " [ 9 10  5  3]]\n",
      "even : [ 4  6 10  4  4 10]\n"
     ]
    }
   ],
   "source": [
    "l = np.random.randint(1, 11, size=(4, 4))\n",
    "print(l)\n",
    "\n",
    "even = l[l % 2 == 0]\n",
    "print(\"even :\", even)"
   ]
  },
  {
   "cell_type": "markdown",
   "metadata": {},
   "source": [
    "# Exercise 15: Handling Missing Data\n",
    "* Create a 1D NumPy array of length 10 with random integers between 1 and 10. Introduce np.nan at random positions and print the array."
   ]
  },
  {
   "cell_type": "code",
   "execution_count": 39,
   "metadata": {},
   "outputs": [
    {
     "name": "stdout",
     "output_type": "stream",
     "text": [
      "[4 3 7 5 5 1 6 8 5 3]\n",
      "5\n"
     ]
    }
   ],
   "source": [
    "l = np.random.randint(1, 11, size=10)\n",
    "print(l)\n",
    "\n",
    "nan_indices = np.random.choice(l.size, replace=False)\n",
    "# l[nan_indices] = np.nan\n",
    "print(nan_indices)"
   ]
  },
  {
   "cell_type": "markdown",
   "metadata": {},
   "source": [
    "* Create a 2D NumPy array of shape (3, 4) with random integers between 1 and 10. Replace all elements that are less than 5 with np.nan and print the array."
   ]
  },
  {
   "cell_type": "code",
   "execution_count": 40,
   "metadata": {},
   "outputs": [
    {
     "name": "stdout",
     "output_type": "stream",
     "text": [
      "[[ 1.  1. 10.  1.]\n",
      " [ 8. 10.  4.  9.]\n",
      " [ 7.  8.  4.  4.]]\n",
      "[[nan nan 10. nan]\n",
      " [ 8. 10. nan  9.]\n",
      " [ 7.  8. nan nan]]\n"
     ]
    }
   ],
   "source": [
    "l = np.random.randint(1, 11, size=(3, 4)).astype(float)  \n",
    "print(l)\n",
    "\n",
    "l[l < 5] = np.nan\n",
    "\n",
    "print(l)"
   ]
  },
  {
   "cell_type": "markdown",
   "metadata": {},
   "source": [
    "* Create a 1D NumPy array of length 15 with random integers between 1 and 20. Identify and print the indices of all np.nan values in the array."
   ]
  },
  {
   "cell_type": "code",
   "execution_count": 41,
   "metadata": {},
   "outputs": [
    {
     "name": "stdout",
     "output_type": "stream",
     "text": [
      "l:\n",
      " [ 4. 15.  3. nan 18. 18. 14. nan 12.  5. nan 16. 11.  8.  7.]\n",
      "\n",
      "Indices of np.nan values: [ 3  7 10]\n"
     ]
    }
   ],
   "source": [
    "l = np.random.randint(1, 21, size=15).astype(float)  # Converting to float for np.nan\n",
    "\n",
    "l[[3, 7, 10]] = np.nan\n",
    "\n",
    "nan_indices = np.where(np.isnan(l))[0]\n",
    "\n",
    "print(\"l:\\n\", l)\n",
    "print(\"\\nIndices of np.nan values:\", nan_indices)"
   ]
  },
  {
   "cell_type": "markdown",
   "metadata": {},
   "source": [
    "# Exercise 16: Performance Optimization with NumPy\n",
    "* Create a large 1D NumPy array with 1 million random integers between 1 and 100. Compute the mean and standard deviation using NumPy functions and measure the time taken."
   ]
  },
  {
   "cell_type": "code",
   "execution_count": 42,
   "metadata": {},
   "outputs": [
    {
     "name": "stdout",
     "output_type": "stream",
     "text": [
      "mean: 50.513145\n",
      "standard deviation: 28.890826108108698\n",
      "temps : 0.00942540168762207 seconds\n"
     ]
    }
   ],
   "source": [
    "import time\n",
    "\n",
    "l = np.random.randint(1, 101, size=1_000_000)\n",
    "\n",
    "start = time.time()\n",
    "\n",
    "mean = np.mean(l)\n",
    "std_dev = np.std(l)\n",
    "\n",
    "end = time.time()\n",
    "\n",
    "print(\"mean:\", mean)\n",
    "print(\"standard deviation:\", std_dev)\n",
    "print(\"temps :\", end - start, \"seconds\")"
   ]
  },
  {
   "cell_type": "markdown",
   "metadata": {},
   "source": [
    "* Create two large 2D NumPy arrays of shape (1000, 1000) with random integers between 1 and 10. Perform element-wise addition and measure the time taken."
   ]
  },
  {
   "cell_type": "code",
   "execution_count": 43,
   "metadata": {},
   "outputs": [
    {
     "name": "stdout",
     "output_type": "stream",
     "text": [
      "temp: 0.0010190010070800781 seconds\n"
     ]
    }
   ],
   "source": [
    "l = np.random.randint(1, 11, size=(1000, 1000))\n",
    "l2 = np.random.randint(1, 11, size=(1000, 1000))\n",
    "\n",
    "start = time.time()\n",
    "\n",
    "result = l + l2\n",
    "\n",
    "end = time.time()\n",
    "\n",
    "print(\"temp:\", end - start, \"seconds\")"
   ]
  },
  {
   "cell_type": "markdown",
   "metadata": {},
   "source": [
    "* Create a 3D NumPy array of shape (100, 100, 100) with random integers between 1 and 10. Compute the sum along each axis and measure the time taken."
   ]
  },
  {
   "cell_type": "code",
   "execution_count": 44,
   "metadata": {},
   "outputs": [
    {
     "name": "stdout",
     "output_type": "stream",
     "text": [
      "[[[10  6  9 ...  8  5  3]\n",
      "  [ 2 10  1 ...  9  4  2]\n",
      "  [ 2  8  3 ...  5  7  9]\n",
      "  ...\n",
      "  [ 2  3  7 ...  6  2  2]\n",
      "  [ 5  5  7 ...  7  4  3]\n",
      "  [ 3  1  9 ...  2  7  9]]\n",
      "\n",
      " [[ 6  5  7 ...  1 10  4]\n",
      "  [ 3 10  6 ...  8  7  6]\n",
      "  [ 7 10  2 ...  9  3  7]\n",
      "  ...\n",
      "  [ 3  2 10 ... 10  2 10]\n",
      "  [ 4 10  4 ...  8  1  1]\n",
      "  [ 8  6  5 ...  6  4 10]]\n",
      "\n",
      " [[ 4 10  3 ...  4  3  2]\n",
      "  [ 6  2  1 ... 10  6 10]\n",
      "  [ 3  3  8 ...  3  9  9]\n",
      "  ...\n",
      "  [ 9  9 10 ...  1  7  3]\n",
      "  [ 7  2  5 ...  1  2  7]\n",
      "  [ 9  9  5 ...  7  6  7]]\n",
      "\n",
      " ...\n",
      "\n",
      " [[ 5  9  5 ...  8  8  1]\n",
      "  [ 1  3  5 ...  2  4  8]\n",
      "  [10 10  9 ...  4  6  3]\n",
      "  ...\n",
      "  [ 3  7  8 ...  5  7  9]\n",
      "  [ 3  5  2 ...  3  2  3]\n",
      "  [ 5  6  8 ...  5  5  1]]\n",
      "\n",
      " [[ 7  7  8 ...  6  1 10]\n",
      "  [ 1  9  7 ...  9  1  6]\n",
      "  [ 1  5  3 ... 10  7  6]\n",
      "  ...\n",
      "  [10  8  3 ...  8  2  3]\n",
      "  [ 4  9  4 ...  5  7  4]\n",
      "  [10  9 10 ...  3  2  9]]\n",
      "\n",
      " [[ 1  6  8 ...  7 10  8]\n",
      "  [ 1  9  3 ...  3  3  2]\n",
      "  [ 1  2  7 ...  1  3  1]\n",
      "  ...\n",
      "  [ 4  9  2 ...  7  4  7]\n",
      "  [ 5  1  9 ...  4  1  4]\n",
      "  [ 9  7  4 ...  2  2  6]]]\n",
      "Sum axis 0: (100, 100)\n",
      "Sum axis 1: (100, 100)\n",
      "Sum axis 2: (100, 100)\n",
      "\n",
      "temps: 0.0009975433349609375 seconds\n"
     ]
    }
   ],
   "source": [
    "l = np.random.randint(1, 11, size=(100, 100, 100))\n",
    "print(l)\n",
    "start = time.time()\n",
    "\n",
    "sum_axis0 = np.sum(l, axis=0) \n",
    "sum_axis1 = np.sum(l, axis=1) \n",
    "sum_axis2 = np.sum(l, axis=2) \n",
    "\n",
    "end = time.time()\n",
    "\n",
    "print(\"Sum axis 0:\", sum_axis0.shape)\n",
    "print(\"Sum axis 1:\", sum_axis1.shape)\n",
    "print(\"Sum axis 2:\", sum_axis2.shape)\n",
    "print(\"\\ntemps:\", end - start, \"seconds\")"
   ]
  },
  {
   "cell_type": "markdown",
   "metadata": {},
   "source": [
    "# Exercise 17: Cumulative and Aggregate Functions\n",
    "* Create a 1D NumPy array with the numbers from 1 to 10. Compute and print the cumulative sum and cumulative product of the array.\n",
    "\n"
   ]
  },
  {
   "cell_type": "code",
   "execution_count": 45,
   "metadata": {},
   "outputs": [
    {
     "name": "stdout",
     "output_type": "stream",
     "text": [
      "[ 1  2  3  4  5  6  7  8  9 10]\n",
      "sum: [ 1  3  6 10 15 21 28 36 45 55]\n",
      "product: [      1       2       6      24     120     720    5040   40320  362880\n",
      " 3628800]\n"
     ]
    }
   ],
   "source": [
    "l = np.arange(1, 11)\n",
    "\n",
    "sum = np.cumsum(l)\n",
    "product = np.cumprod(l)\n",
    "\n",
    "print(l)\n",
    "print(\"sum:\", sum)\n",
    "print(\"product:\", product)"
   ]
  },
  {
   "cell_type": "markdown",
   "metadata": {},
   "source": [
    "* Create a 2D NumPy array of shape (4, 4) with random integers between 1 and 20. Compute and print the cumulative sum along the rows and the columns.\n",
    "\n"
   ]
  },
  {
   "cell_type": "code",
   "execution_count": 46,
   "metadata": {},
   "outputs": [
    {
     "name": "stdout",
     "output_type": "stream",
     "text": [
      "[[12  4 10 19]\n",
      " [15 18 11 16]\n",
      " [20 10 13  2]\n",
      " [20 12 10 17]]\n",
      "\n",
      "rows:\n",
      " [[12 16 26 45]\n",
      " [15 33 44 60]\n",
      " [20 30 43 45]\n",
      " [20 32 42 59]]\n",
      "\n",
      "columns:\n",
      " [[12  4 10 19]\n",
      " [27 22 21 35]\n",
      " [47 32 34 37]\n",
      " [67 44 44 54]]\n"
     ]
    }
   ],
   "source": [
    "l = np.random.randint(1, 21, size=(4, 4))\n",
    "\n",
    "rows = np.cumsum(l, axis=1)\n",
    "col = np.cumsum(l, axis=0)\n",
    "\n",
    "print(l)\n",
    "print(\"\\nrows:\\n\", rows)\n",
    "print(\"\\ncolumns:\\n\", col)"
   ]
  },
  {
   "cell_type": "markdown",
   "metadata": {},
   "source": [
    "* Create a 1D NumPy array with 10 random integers between 1 and 50. Compute and print the minimum, maximum, and sum of the array.\n",
    "\n"
   ]
  },
  {
   "cell_type": "code",
   "execution_count": 47,
   "metadata": {},
   "outputs": [
    {
     "name": "stdout",
     "output_type": "stream",
     "text": [
      "l: [34  3  2 12 31 49 17 16 10 38]\n",
      "min : 2\n",
      "max: 49\n",
      "sum: 212\n"
     ]
    }
   ],
   "source": [
    "l = np.random.randint(1, 51, size=10)\n",
    "\n",
    "min = np.min(l)\n",
    "max = np.max(l)\n",
    "sum = np.sum(l)\n",
    "\n",
    "print(\"l:\", l)\n",
    "print(\"min :\", min)\n",
    "print(\"max:\", max)\n",
    "print(\"sum:\", sum)"
   ]
  },
  {
   "cell_type": "markdown",
   "metadata": {},
   "source": [
    "# Exercise 18: Working with Dates and Times\n",
    "* Create an array of 10 dates starting from today with a daily frequency and print the array.\n",
    "\n"
   ]
  },
  {
   "cell_type": "code",
   "execution_count": 48,
   "metadata": {},
   "outputs": [
    {
     "name": "stdout",
     "output_type": "stream",
     "text": [
      "dates :\n",
      " ['2024-09-27' '2024-09-28' '2024-09-29' '2024-09-30' '2024-10-01'\n",
      " '2024-10-02' '2024-10-03' '2024-10-04' '2024-10-05' '2024-10-06']\n"
     ]
    }
   ],
   "source": [
    "today = np.datetime64('today', 'D')\n",
    "dates = today + np.arange(10) \n",
    "\n",
    "print(\"dates :\\n\", dates)"
   ]
  },
  {
   "cell_type": "markdown",
   "metadata": {},
   "source": [
    "* Create an array of 5 dates starting from January 1, 2022 with a monthly frequency and print the array.\n",
    "\n"
   ]
  },
  {
   "cell_type": "code",
   "execution_count": 49,
   "metadata": {},
   "outputs": [
    {
     "name": "stdout",
     "output_type": "stream",
     "text": [
      "dates :\n",
      " ['2022-01' '2022-02' '2022-03' '2022-04' '2022-05']\n"
     ]
    }
   ],
   "source": [
    "start = np.datetime64('2022-01-01', 'M') \n",
    "dates = start + np.arange(5)  \n",
    "\n",
    "print(\"dates :\\n\", dates)"
   ]
  },
  {
   "cell_type": "markdown",
   "metadata": {},
   "source": [
    "* Create a 1D array with 10 random timestamps in the year 2023. Convert the timestamps to NumPy datetime64 objects and print the result.\n",
    "\n"
   ]
  },
  {
   "cell_type": "code",
   "execution_count": 50,
   "metadata": {},
   "outputs": [
    {
     "name": "stdout",
     "output_type": "stream",
     "text": [
      "Random timestamps in 2023 as datetime64 objects:\n",
      " ['2053-08-09T00:20' '2035-07-16T12:38' '2078-06-01T22:00'\n",
      " '2043-07-27T07:27' '2050-10-18T12:16' '2051-12-26T05:11'\n",
      " '2081-06-08T01:31' '2081-06-20T09:07' '2067-09-08T17:31'\n",
      " '2075-04-05T19:56']\n"
     ]
    }
   ],
   "source": [
    "start = np.datetime64('2023-01-01T00:00')\n",
    "end = np.datetime64('2024-01-01T00:00')\n",
    "\n",
    "random = start + np.random.randint(0, (end - start).astype('timedelta64[s]').astype(int), 10)\n",
    "\n",
    "print(\"Random timestamps in 2023 as datetime64 objects:\\n\", random)"
   ]
  },
  {
   "cell_type": "markdown",
   "metadata": {},
   "source": [
    "# Exercise 19: Creating Arrays with Custom Data Types\n",
    "* Create a 1D NumPy array of length 5 with custom data type to store integers and their corresponding binary representation as strings. Print the array.\n",
    "\n"
   ]
  },
  {
   "cell_type": "code",
   "execution_count": 51,
   "metadata": {},
   "outputs": [
    {
     "name": "stdout",
     "output_type": "stream",
     "text": [
      "[(1, '1') (2, '10') (3, '11') (4, '100') (5, '101')]\n"
     ]
    }
   ],
   "source": [
    "custom_dtype = np.dtype([('number', np.int32), ('binary', 'U10')])\n",
    "\n",
    "l = np.zeros(5, dtype=custom_dtype)\n",
    "\n",
    "for i in range(5):\n",
    "    number = i + 1  # You can use any numbers here\n",
    "    l[i] = (number, bin(number)[2:])\n",
    "\n",
    "print(l)"
   ]
  },
  {
   "cell_type": "markdown",
   "metadata": {},
   "source": [
    "* Create a 2D NumPy array of shape (3, 3) with a custom data type to store complex numbers. Initialize the array with some complex numbers and print the array.\n",
    "\n"
   ]
  },
  {
   "cell_type": "code",
   "execution_count": 52,
   "metadata": {},
   "outputs": [
    {
     "name": "stdout",
     "output_type": "stream",
     "text": [
      "[[ 1. +2.j  3. +4.j  5. +6.j]\n",
      " [ 7. +8.j  9.+10.j 11.+12.j]\n",
      " [13.+14.j 15.+16.j 17.+18.j]]\n"
     ]
    }
   ],
   "source": [
    "complex = np.dtype('complex')\n",
    "\n",
    "l = np.array([[1+2j, 3+4j, 5+6j],\n",
    "            [7+8j, 9+10j, 11+12j],\n",
    "            [13+14j, 15+16j, 17+18j]], dtype=complex)\n",
    "\n",
    "print(l)"
   ]
  },
  {
   "cell_type": "markdown",
   "metadata": {},
   "source": [
    "* Create a structured array to store information about books with fields: title (string), author (string), and pages (integer). Add information for three books and print the structured array."
   ]
  },
  {
   "cell_type": "code",
   "execution_count": 53,
   "metadata": {},
   "outputs": [
    {
     "name": "stdout",
     "output_type": "stream",
     "text": [
      "[('titre1', 'auteur1', 322) ('titre2', 'auteur2', 433)\n",
      " ('titre3', 'auteur3', 444)]\n"
     ]
    }
   ],
   "source": [
    "book_dtype = np.dtype([('titre', 'U100'), \n",
    "                       ('auteur', 'U100'),\n",
    "                       ('pages', np.int32)])  \n",
    "\n",
    "livre = np.zeros(3, dtype=book_dtype)\n",
    "\n",
    "livre[0] = ('titre1', 'auteur1', 322)\n",
    "livre[1] = ('titre2', 'auteur2', 433)\n",
    "livre[2] = ('titre3', 'auteur3', 444)\n",
    "\n",
    "# Print the structured array\n",
    "print(livre)"
   ]
  },
  {
   "cell_type": "code",
   "execution_count": 73,
   "metadata": {},
   "outputs": [
    {
     "data": {
      "text/plain": [
       "210"
      ]
     },
     "execution_count": 73,
     "metadata": {},
     "output_type": "execute_result"
    }
   ],
   "source": []
  }
 ],
 "metadata": {
  "kernelspec": {
   "display_name": "Python 3",
   "language": "python",
   "name": "python3"
  },
  "language_info": {
   "codemirror_mode": {
    "name": "ipython",
    "version": 3
   },
   "file_extension": ".py",
   "mimetype": "text/x-python",
   "name": "python",
   "nbconvert_exporter": "python",
   "pygments_lexer": "ipython3",
   "version": "3.9.0"
  }
 },
 "nbformat": 4,
 "nbformat_minor": 2
}
